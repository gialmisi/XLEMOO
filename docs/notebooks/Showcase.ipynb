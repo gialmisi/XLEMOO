{
 "cells": [
  {
   "cell_type": "markdown",
   "id": "33c96da4-77ed-4a08-b6e1-71df5293fc83",
   "metadata": {},
   "source": [
    "# How an XLEMOO method can be used as an interactive multiobjective optimization method\n",
    "\n",
    "In this example, we can see how an XLEMOO method can be used as an interactive multiobjective optimization method accepting reference points as preferences."
   ]
  },
  {
   "cell_type": "markdown",
   "id": "7c99c6c6-f7f3-432d-8d43-5de7c1cfb22d",
   "metadata": {},
   "source": [
    "## Imports\n",
    "\n",
    "Below, we define the import needed to define our LEMOO model."
   ]
  },
  {
   "cell_type": "code",
   "execution_count": 1,
   "id": "6065d790-6ab1-480d-9922-bc74ad0110a8",
   "metadata": {
    "tags": []
   },
   "outputs": [],
   "source": [
    "import sys\n",
    "sys.path.append(\"../../../XLEMOO\")\n",
    "\n",
    "import warnings\n",
    "\n",
    "warnings.filterwarnings(\"ignore\", category=DeprecationWarning)\n",
    "warnings.filterwarnings(\"ignore\", category=FutureWarning)\n",
    "\n",
    "from XLEMOO.LEMOO import EAParams, MLParams, LEMParams, LEMOO, PastGeneration\n",
    "from XLEMOO.fitness_indicators import asf_wrapper\n",
    "from XLEMOO.selection import SelectNBest\n",
    "from XLEMOO.utilities import parse_skoped_rules, complete_missing_rules, print_rules\n",
    "from desdeo_emo.recombination import SBX_xover, BP_mutation\n",
    "from desdeo_tools.scalarization.ASF import PointMethodASF\n",
    "from desdeo_problem.testproblems import vehicle_crashworthiness\n",
    "\n",
    "import numpy as np\n",
    "from imodels import SkopeRulesClassifier"
   ]
  },
  {
   "cell_type": "markdown",
   "id": "edef70a1-e421-4b0a-99c2-e666af62c2f9",
   "metadata": {},
   "source": [
    "## Initialize the problem\n",
    "\n",
    "Next, we initialize a simple test problem with 3 objective functions and 5 variables. We use the vehicle crash worthiness problem."
   ]
  },
  {
   "cell_type": "code",
   "execution_count": 2,
   "id": "d7993f78-b475-4249-9f9e-5608b82a2dff",
   "metadata": {
    "tags": []
   },
   "outputs": [],
   "source": [
    "n_objectives = 3\n",
    "n_variables = 5\n",
    "\n",
    "problem = vehicle_crashworthiness()"
   ]
  },
  {
   "cell_type": "markdown",
   "id": "486f50ea-1b59-4a77-82f5-0bc8a0e7882e",
   "metadata": {},
   "source": [
    "## Initialize an XLEMOO method\n",
    "\n",
    "Now we are ready to define our LEMOO method. We start by defining the parameters of our model. In `lem_params` general parameters related to the LEMOO method are defined. In `ea_params`, parameters specific to the evolutionary phase of our LEMOO method are defined, and in `ml_params` parameters specific to the learning phase of the method are defined. For additional information about these parameters, see the API documentation of the XLEMOO framework."
   ]
  },
  {
   "cell_type": "code",
   "execution_count": 3,
   "id": "a52f71a1-2f4a-428e-9ff5-215947a761ab",
   "metadata": {
    "tags": []
   },
   "outputs": [],
   "source": [
    "ideal = np.array([1600.0, 6.0, 0.038])\n",
    "nadir = np.array([1700.0, 12.0, 0.2])\n",
    "ref_point = np.array([1670.0, 7.61449, 0.085])  # the reference point\n",
    "\n",
    "# define the achievement scalarizing function as the fitness function\n",
    "ref_asf = asf_wrapper(PointMethodASF(ideal=ideal, nadir=nadir), {\"reference_point\": ref_point})\n",
    "fitness_fun = ref_asf\n",
    "\n",
    "lem_params = LEMParams(\n",
    "    use_darwin=True,\n",
    "    use_ml=True,\n",
    "    fitness_indicator=fitness_fun,\n",
    "    ml_probe = 1,\n",
    "    ml_threshold = None,\n",
    "    darwin_probe = None,\n",
    "    darwin_threshold = None,\n",
    "    total_iterations=10,\n",
    ")\n",
    "\n",
    "ea_params = EAParams(\n",
    "    population_size=50,\n",
    "    cross_over_op=SBX_xover(),\n",
    "    mutation_op=BP_mutation(problem.get_variable_lower_bounds(), problem.get_variable_upper_bounds()),\n",
    "    selection_op=SelectNBest(None, 50),  # keep population size constant\n",
    "    population_init_design=\"LHSDesign\",\n",
    "    iterations_per_cycle=19,\n",
    ")\n",
    "\n",
    "ml = SkopeRulesClassifier(precision_min=0.1, n_estimators=30, max_features=None, max_depth=None, bootstrap=True, bootstrap_features=True, random_state=1)\n",
    "ml_params = MLParams(\n",
    "    H_split=0.20,\n",
    "    L_split=0.20,\n",
    "    ml_model=ml,\n",
    "    instantiation_factor=10,\n",
    "    generation_lookback=0,\n",
    "    ancestral_recall=0,\n",
    "    unique_only=True,\n",
    "    iterations_per_cycle=1,\n",
    ")\n",
    "\n",
    "lemoo = LEMOO(problem, lem_params, ea_params, ml_params)"
   ]
  },
  {
   "cell_type": "markdown",
   "id": "78415f5d-1d24-44a9-935e-396da3dfe2ba",
   "metadata": {},
   "source": [
    "## Run the XLEMOO method\n",
    "\n",
    "We run our XLEMOO method for a set number of iterations in each mode. The printed output shows how many iterations were spent in each mode."
   ]
  },
  {
   "cell_type": "code",
   "execution_count": 4,
   "id": "73c2c992-74e5-4802-b7c8-b3bb70de3be9",
   "metadata": {
    "tags": []
   },
   "outputs": [
    {
     "data": {
      "text/plain": [
       "{'darwin_mode': 190, 'learning_mode': 10, 'total_iterations': 10}"
      ]
     },
     "execution_count": 4,
     "metadata": {},
     "output_type": "execute_result"
    }
   ],
   "source": [
    "lemoo.run_iterations()"
   ]
  },
  {
   "cell_type": "markdown",
   "id": "47b76325-93eb-4da7-885b-3fbd9453b47e",
   "metadata": {},
   "source": [
    "## Extract and print the rules from skope-rules and complete missing rules\n",
    "\n",
    "Utilizing the trained XLEMOO model and helper functions imported earlier, we can extract the rules in a human readable format."
   ]
  },
  {
   "cell_type": "code",
   "execution_count": 5,
   "id": "543b80ec-c0ef-4052-bef1-64cb3da47310",
   "metadata": {
    "tags": []
   },
   "outputs": [
    {
     "name": "stdout",
     "output_type": "stream",
     "text": [
      "Best solution x = [1.003578   2.9999997  1.         1.28857973 1.06367798]\n",
      "Best objective vector z = [1.66887224e+03 7.51755804e+00 8.31730144e-02]\n",
      "RULES:\n",
      "Var\tLower(R)\t\tUpper(R)\t\tLower(P)\t\tUpper(P)\n",
      "X_0\t1.00315\t(1.0)\t\t1.0036 (1.0)\t\t1.00358\t\t\t1.00358\n",
      "X_1\t2.99921\t(1.0)\t\t3.0 (-1)\t\t3.0\t\t\t3.0\n",
      "X_2\t1.0\t(0.49)\t\t1.7036 (1.0)\t\t1.0\t\t\t1.0\n",
      "X_3\t1.1918\t(0.984)\t\t1.5508 (1.0)\t\t1.28858\t\t\t1.28858\n",
      "X_4\t1.04039\t(1.0)\t\t1.06792 (1.0)\t\t1.06368\t\t\t1.06368\n"
     ]
    }
   ],
   "source": [
    "rules_for_vars = parse_skoped_rules(lemoo=lemoo, problem=problem)\n",
    "rules_for_vars = complete_missing_rules(lemoo=lemoo, rules_for_vars=rules_for_vars)\n",
    "\n",
    "print(f\"Best solution x = {lemoo._generation_history[-1].individuals[0]}\")\n",
    "print(f\"Best objective vector z = {lemoo._generation_history[-1].objectives_fitnesses[0]}\")\n",
    "print_rules(lemoo=lemoo, rules_for_vars=rules_for_vars, tex=False)"
   ]
  },
  {
   "cell_type": "markdown",
   "id": "be9fd2d6-d31d-4368-8da9-b1bfc12ab2a9",
   "metadata": {},
   "source": [
    "## Modify variables and explore a new solution\n",
    "\n",
    "We may then modify the variables to explore new solutions."
   ]
  },
  {
   "cell_type": "code",
   "execution_count": 6,
   "id": "c3448589-b8f2-4a4f-b52e-f4fa8c93c37d",
   "metadata": {
    "tags": []
   },
   "outputs": [
    {
     "name": "stdout",
     "output_type": "stream",
     "text": [
      "[[1.66748556e+03 7.54345501e+00 9.49552335e-02]]\n"
     ]
    }
   ],
   "source": [
    "x_new = np.atleast_2d([1.00184, 2.7135, 1.00000, 1.21741, 1.02602])\n",
    "z_new = problem.evaluate(x_new).objectives\n",
    "print(z_new)"
   ]
  },
  {
   "cell_type": "markdown",
   "id": "5911f4af-930c-4bd9-9a9d-e4653143ccac",
   "metadata": {},
   "source": [
    "Or we may specify a new reference point and run the XLEMOO method again."
   ]
  }
 ],
 "metadata": {
  "kernelspec": {
   "display_name": "fresh",
   "language": "python",
   "name": "fresh"
  },
  "language_info": {
   "codemirror_mode": {
    "name": "ipython",
    "version": 3
   },
   "file_extension": ".py",
   "mimetype": "text/x-python",
   "name": "python",
   "nbconvert_exporter": "python",
   "pygments_lexer": "ipython3",
   "version": "3.9.10"
  }
 },
 "nbformat": 4,
 "nbformat_minor": 5
}
