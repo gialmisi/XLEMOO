{
 "cells": [
  {
   "cell_type": "code",
   "execution_count": 41,
   "id": "910c1671-bb69-40e5-ab42-365f7c9b05a7",
   "metadata": {},
   "outputs": [],
   "source": [
    "from sklearn.datasets import load_iris\n",
    "from sklearn import tree\n",
    "import numpy as np\n",
    "\n",
    "iris = load_iris()\n",
    "X,y = iris.data, iris.target\n",
    "clf = tree.DecisionTreeClassifier(max_leaf_nodes=3, random_state=0)\n",
    "clf = clf.fit(X, y)"
   ]
  },
  {
   "cell_type": "code",
   "execution_count": 42,
   "id": "50d03f14-c265-43ac-bc7b-ff22e4dc1deb",
   "metadata": {},
   "outputs": [
    {
     "data": {
      "text/plain": [
       "[Text(0.4, 0.8333333333333334, 'X[3] <= 0.8\\ngini = 0.667\\nsamples = 150\\nvalue = [50, 50, 50]\\nclass = 0'),\n",
       " Text(0.2, 0.5, 'gini = 0.0\\nsamples = 50\\nvalue = [50, 0, 0]\\nclass = 0'),\n",
       " Text(0.6, 0.5, 'X[3] <= 1.75\\ngini = 0.5\\nsamples = 100\\nvalue = [0, 50, 50]\\nclass = 1'),\n",
       " Text(0.4, 0.16666666666666666, 'gini = 0.168\\nsamples = 54\\nvalue = [0, 49, 5]\\nclass = 1'),\n",
       " Text(0.8, 0.16666666666666666, 'gini = 0.043\\nsamples = 46\\nvalue = [0, 1, 45]\\nclass = 2')]"
      ]
     },
     "execution_count": 42,
     "metadata": {},
     "output_type": "execute_result"
    },
    {
     "data": {
      "image/png": "[encoded data removed]",
      "text/plain": [
       "<Figure size 432x288 with 1 Axes>"
      ]
     },
     "metadata": {
      "needs_background": "light"
     },
     "output_type": "display_data"
    }
   ],
   "source": [
    "tree.plot_tree(clf, class_names=[\"0\", \"1\", \"2\"])"
   ]
  },
  {
   "cell_type": "code",
   "execution_count": 47,
   "id": "5f05fc9d-bd17-4840-b741-471fea50d227",
   "metadata": {},
   "outputs": [
    {
     "data": {
      "text/plain": [
       "4"
      ]
     },
     "execution_count": 47,
     "metadata": {},
     "output_type": "execute_result"
    }
   ],
   "source": [
    "clf.tree_.children_right[2]"
   ]
  },
  {
   "cell_type": "code",
   "execution_count": 44,
   "id": "36749cb2-2aee-4e5b-a6d2-6869b8e7f58c",
   "metadata": {},
   "outputs": [],
   "source": [
    "def traverse_tree(tree, rule_set, node_id):\n",
    "    # check if current node is a leaf, if true, do not recurse\n",
    "    if tree.tree_.children_left[node_id] == tree.tree_.children_right[node_id]:\n",
    "        # find classificaiton\n",
    "        classification = np.argmax(tree.tree_.value[node_id])\n",
    "        return classification\n",
    "    \n",
    "    # is root? if root, then new path begins\n",
    "    elif node_id == 0:\n",
    "        rule_set[0] = []\n",
    "        rule_set[1] = []\n",
    "        \n",
    "        threshold = tree.tree_.threshold[current_id]\n",
    "        feature = tree.tree_.feature[current_id]\n",
    "        rule_left = [feature, \"lte\", threshold]\n",
    "        rule_right = [feature, \"gt\", threshold]\n",
    "        \n",
    "        rule_set[0].append(rule_left)\n",
    "        rule_set[1].append(rule_right)\n",
    "        \n",
    "        left_id = tree.tree_.children_left[node_id]\n",
    "        right_id = tree.tree_.children_right[node_id]\n",
    "        \n",
    "        # go left and right\n",
    "        rule_set[0].append(traverse_tree(tree, rule_set\n",
    "    else:\n",
    "        rule = rule_set"
   ]
  },
  {
   "cell_type": "code",
   "execution_count": 48,
   "id": "a84e9007-5b1f-47cf-9af1-d28e12958fbe",
   "metadata": {},
   "outputs": [
    {
     "data": {
      "text/plain": [
       "2"
      ]
     },
     "execution_count": 48,
     "metadata": {},
     "output_type": "execute_result"
    }
   ],
   "source": [
    "traverse_tree(clf, [], 4)"
   ]
  }
 ],
 "metadata": {
  "kernelspec": {
   "display_name": "XLEMOO",
   "language": "python",
   "name": "xlemoo"
  },
  "language_info": {
   "codemirror_mode": {
    "name": "ipython",
    "version": 3
   },
   "file_extension": ".py",
   "mimetype": "text/x-python",
   "name": "python",
   "nbconvert_exporter": "python",
   "pygments_lexer": "ipython3",
   "version": "3.8.12"
  }
 },
 "nbformat": 4,
 "nbformat_minor": 5
}
