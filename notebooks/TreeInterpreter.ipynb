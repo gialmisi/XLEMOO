{
 "cells": [
  {
   "cell_type": "code",
   "execution_count": 74,
   "id": "910c1671-bb69-40e5-ab42-365f7c9b05a7",
   "metadata": {},
   "outputs": [],
   "source": [
    "from sklearn.datasets import load_iris\n",
    "from sklearn import tree\n",
    "import numpy as np\n",
    "\n",
    "iris = load_iris()\n",
    "X,y = iris.data, iris.target\n",
    "clf = tree.DecisionTreeClassifier(max_leaf_nodes=10, random_state=0)\n",
    "clf = clf.fit(X, y)"
   ]
  },
  {
   "cell_type": "code",
   "execution_count": 79,
   "id": "50d03f14-c265-43ac-bc7b-ff22e4dc1deb",
   "metadata": {},
   "outputs": [
    {
     "data": {
      "text/plain": [
       "<module 'sklearn.tree' from '/home/kilo/.cache/pypoetry/virtualenvs/xlemoo-6BFI3yUJ-py3.8/lib/python3.8/site-packages/sklearn/tree/__init__.py'>"
      ]
     },
     "execution_count": 79,
     "metadata": {},
     "output_type": "execute_result"
    },
    {
     "data": {
      "image/png": "[encoded data removed]",
      "text/plain": [
       "<Figure size 432x288 with 1 Axes>"
      ]
     },
     "metadata": {
      "needs_background": "light"
     },
     "output_type": "display_data"
    }
   ],
   "source": [
    "tree.plot_tree(clf, class_names=[\"0\", \"1\", \"2\"])\n",
    "tree"
   ]
  },
  {
   "cell_type": "code",
   "execution_count": 76,
   "id": "5f05fc9d-bd17-4840-b741-471fea50d227",
   "metadata": {},
   "outputs": [
    {
     "data": {
      "text/plain": [
       "array([150.,  50., 100.,  54.,  46.,  48.,   6.,  47.,   1.,   3.,   3.,\n",
       "         2.,   1.,   3.,  43.,   2.,   1.])"
      ]
     },
     "execution_count": 76,
     "metadata": {},
     "output_type": "execute_result"
    }
   ],
   "source": [
    "clf.tree_.children_right[2]\n",
    "clf.tree_.weighted_n_node_samples"
   ]
  },
  {
   "cell_type": "code",
   "execution_count": 80,
   "id": "36749cb2-2aee-4e5b-a6d2-6869b8e7f58c",
   "metadata": {},
   "outputs": [],
   "source": [
    "def find_all_paths(tree):\n",
    "    paths = []\n",
    "    \n",
    "    def traverse_tree(tree, rules: list, node_id: int):\n",
    "        # check if current node is a leaf, if true, do not recurse\n",
    "        if tree.tree_.children_left[node_id] == tree.tree_.children_right[node_id]:\n",
    "            # find classificaiton\n",
    "            classification = np.argmax(tree.tree_.value[node_id])\n",
    "            entry = {}\n",
    "            entry[\"rules\"] = rules\n",
    "            entry[\"samples\"] = tree.tree_.weighted_n_node_samples[node_id]\n",
    "            entry[\"impurity\"] = tree.tree_.impurity[node_id]\n",
    "            entry[\"classification\"] = classification\n",
    "            paths.append(entry)\n",
    "\n",
    "        # is root? if root, then new path begins\n",
    "        elif node_id == 0:\n",
    "            threshold = tree.tree_.threshold[node_id]\n",
    "            feature = tree.tree_.feature[node_id]\n",
    "            rule_left = [feature, \"lte\", threshold]\n",
    "            rule_right = [feature, \"gt\", threshold]\n",
    "\n",
    "            left_id = tree.tree_.children_left[node_id]\n",
    "            right_id = tree.tree_.children_right[node_id]\n",
    "\n",
    "            # go left and right\n",
    "            left_rules = [rule_left]\n",
    "            right_rules = [rule_right]\n",
    "            \n",
    "            traverse_tree(tree, left_rules, left_id)\n",
    "            traverse_tree(tree, right_rules, right_id)\n",
    "            \n",
    "        # we have a node\n",
    "        else:\n",
    "            threshold = tree.tree_.threshold[node_id]\n",
    "            feature = tree.tree_.feature[node_id]\n",
    "            rule_left = [feature, \"lte\", threshold]\n",
    "            rule_right = [feature, \"gt\", threshold]\n",
    "\n",
    "            left_id = tree.tree_.children_left[node_id]\n",
    "            right_id = tree.tree_.children_right[node_id]\n",
    "                     \n",
    "            left_rules = rules + [rule_left]\n",
    "            right_rules = rules + [rule_right]\n",
    "            \n",
    "            traverse_tree(tree, left_rules, left_id)\n",
    "            traverse_tree(tree, right_rules, right_id)\n",
    "            \n",
    "    traverse_tree(tree, [], 0)\n",
    "    \n",
    "    return paths"
   ]
  },
  {
   "cell_type": "code",
   "execution_count": 81,
   "id": "a84e9007-5b1f-47cf-9af1-d28e12958fbe",
   "metadata": {},
   "outputs": [
    {
     "name": "stdout",
     "output_type": "stream",
     "text": [
      "{'rules': [[3, 'lte', 0.800000011920929]], 'samples': 50.0, 'impurity': 0.0, 'classification': 0}\n",
      "{'rules': [[3, 'gt', 0.800000011920929], [3, 'lte', 1.75], [2, 'lte', 4.950000047683716], [3, 'lte', 1.6500000357627869]], 'samples': 47.0, 'impurity': 0.0, 'classification': 1}\n",
      "{'rules': [[3, 'gt', 0.800000011920929], [3, 'lte', 1.75], [2, 'lte', 4.950000047683716], [3, 'gt', 1.6500000357627869]], 'samples': 1.0, 'impurity': 0.0, 'classification': 2}\n",
      "{'rules': [[3, 'gt', 0.800000011920929], [3, 'lte', 1.75], [2, 'gt', 4.950000047683716], [3, 'lte', 1.550000011920929]], 'samples': 3.0, 'impurity': 0.0, 'classification': 2}\n",
      "{'rules': [[3, 'gt', 0.800000011920929], [3, 'lte', 1.75], [2, 'gt', 4.950000047683716], [3, 'gt', 1.550000011920929], [2, 'lte', 5.450000047683716]], 'samples': 2.0, 'impurity': 0.0, 'classification': 1}\n",
      "{'rules': [[3, 'gt', 0.800000011920929], [3, 'lte', 1.75], [2, 'gt', 4.950000047683716], [3, 'gt', 1.550000011920929], [2, 'gt', 5.450000047683716]], 'samples': 1.0, 'impurity': 0.0, 'classification': 2}\n",
      "{'rules': [[3, 'gt', 0.800000011920929], [3, 'gt', 1.75], [2, 'lte', 4.8500001430511475], [1, 'lte', 3.100000023841858]], 'samples': 2.0, 'impurity': 0.0, 'classification': 2}\n",
      "{'rules': [[3, 'gt', 0.800000011920929], [3, 'gt', 1.75], [2, 'lte', 4.8500001430511475], [1, 'gt', 3.100000023841858]], 'samples': 1.0, 'impurity': 0.0, 'classification': 1}\n",
      "{'rules': [[3, 'gt', 0.800000011920929], [3, 'gt', 1.75], [2, 'gt', 4.8500001430511475]], 'samples': 43.0, 'impurity': 0.0, 'classification': 2}\n"
     ]
    }
   ],
   "source": [
    "paths = find_all_paths(clf)\n",
    "\n",
    "for path in paths:\n",
    "    print(path)"
   ]
  },
  {
   "cell_type": "code",
   "execution_count": null,
   "id": "12f2b2f0-2101-4be7-a3b8-46f7b9b2a14f",
   "metadata": {},
   "outputs": [],
   "source": []
  }
 ],
 "metadata": {
  "kernelspec": {
   "display_name": "XLEMOO",
   "language": "python",
   "name": "xlemoo"
  },
  "language_info": {
   "codemirror_mode": {
    "name": "ipython",
    "version": 3
   },
   "file_extension": ".py",
   "mimetype": "text/x-python",
   "name": "python",
   "nbconvert_exporter": "python",
   "pygments_lexer": "ipython3",
   "version": "3.8.12"
  }
 },
 "nbformat": 4,
 "nbformat_minor": 5
}
