{
 "cells": [
  {
   "cell_type": "code",
   "execution_count": 1,
   "id": "b65709c6-67b5-4c37-bf6a-2d539eb83c78",
   "metadata": {},
   "outputs": [],
   "source": [
    "import sys\n",
    "sys.path.append(\"../../XLEMOO\")"
   ]
  },
  {
   "cell_type": "code",
   "execution_count": 7,
   "id": "6065d790-6ab1-480d-9922-bc74ad0110a8",
   "metadata": {},
   "outputs": [],
   "source": [
    "from XLEMOO.LEMOO import EAParams, MLParams, LEMParams, LEMOO, PastGeneration\n",
    "from XLEMOO.fitness_indicators import asf_wrapper\n",
    "from XLEMOO.selection import SelectNBest\n",
    "from XLEMOO.plotting import show_rules\n",
    "from XLEMOO.ruleset_interpreter import extract_skoped_rules\n",
    "from desdeo_emo.recombination import SBX_xover, BP_mutation\n",
    "from desdeo_tools.scalarization.ASF import PointMethodASF\n",
    "from desdeo_problem.testproblems import vehicle_crashworthiness\n",
    "\n",
    "import matplotlib.pyplot as plt\n",
    "import numpy as np\n",
    "from imodels import SkopeRulesClassifier"
   ]
  },
  {
   "cell_type": "markdown",
   "id": "edef70a1-e421-4b0a-99c2-e666af62c2f9",
   "metadata": {},
   "source": [
    "## Initialize the problem"
   ]
  },
  {
   "cell_type": "code",
   "execution_count": 3,
   "id": "d7993f78-b475-4249-9f9e-5608b82a2dff",
   "metadata": {},
   "outputs": [],
   "source": [
    "n_objectives = 3\n",
    "n_variables = 5\n",
    "\n",
    "problem = vehicle_crashworthiness()"
   ]
  },
  {
   "cell_type": "markdown",
   "id": "486f50ea-1b59-4a77-82f5-0bc8a0e7882e",
   "metadata": {},
   "source": [
    "## Initialize an XLEMOO method"
   ]
  },
  {
   "cell_type": "code",
   "execution_count": 112,
   "id": "a52f71a1-2f4a-428e-9ff5-215947a761ab",
   "metadata": {},
   "outputs": [],
   "source": [
    "ideal = np.array([1600.0, 6.0, 0.038])\n",
    "nadir = np.array([1700.0, 12.0, 0.2])\n",
    "# ref_point = np.array([1650.0, 7.0, 0.05])  # the reference point\n",
    "ref_point = np.array([1690.0, 6.5, 0.039])  # the reference point\n",
    "\n",
    "# define the achievement scalarizing function as the fitness function\n",
    "ref_asf = asf_wrapper(PointMethodASF(ideal=ideal, nadir=nadir), {\"reference_point\": ref_point})\n",
    "fitness_fun = ref_asf\n",
    "\n",
    "lem_params = LEMParams(\n",
    "    use_darwin=True,\n",
    "    use_ml=True,\n",
    "    fitness_indicator=fitness_fun,\n",
    "    ml_probe = 1,\n",
    "    ml_threshold = None,\n",
    "    darwin_probe = None,\n",
    "    darwin_threshold = None,\n",
    "    total_iterations=15,\n",
    ")\n",
    "\n",
    "ea_params = EAParams(\n",
    "    population_size=50,\n",
    "    cross_over_op=SBX_xover(),\n",
    "    mutation_op=BP_mutation(problem.get_variable_lower_bounds(), problem.get_variable_upper_bounds()),\n",
    "    selection_op=SelectNBest(None, 50),  # keep population size constant\n",
    "    population_init_design=\"LHSDesign\",\n",
    "    iterations_per_cycle=19,\n",
    ")\n",
    "\n",
    "ml = SkopeRulesClassifier(precision_min=0.1, n_estimators=30, max_features=None, max_depth=None, bootstrap=True, bootstrap_features=True)\n",
    "ml_params = MLParams(\n",
    "    H_split=0.10,\n",
    "    L_split=0.10,\n",
    "    ml_model=ml,\n",
    "    instantation_factor=10,\n",
    "    generation_lookback=0,\n",
    "    ancestral_recall=0,\n",
    "    unique_only=True,\n",
    "    iterations_per_cycle=1,\n",
    ")\n",
    "\n",
    "lemoo = LEMOO(problem, lem_params, ea_params, ml_params)"
   ]
  },
  {
   "cell_type": "markdown",
   "id": "78415f5d-1d24-44a9-935e-396da3dfe2ba",
   "metadata": {},
   "source": [
    "## Run the XLEMOO method"
   ]
  },
  {
   "cell_type": "code",
   "execution_count": 113,
   "id": "73c2c992-74e5-4802-b7c8-b3bb70de3be9",
   "metadata": {
    "tags": []
   },
   "outputs": [
    {
     "name": "stdout",
     "output_type": "stream",
     "text": [
      "h_gorup shape: (48, 5)\n",
      "l_gorup shape: (48, 5)\n",
      ".\n",
      "h_gorup shape: (83, 5)\n",
      "l_gorup shape: (83, 5)\n",
      ".\n",
      "h_gorup shape: (113, 5)\n",
      "l_gorup shape: (113, 5)\n",
      ".\n",
      "h_gorup shape: (140, 5)\n",
      "l_gorup shape: (140, 5)\n",
      ".\n",
      "h_gorup shape: (166, 5)\n",
      "l_gorup shape: (166, 5)\n",
      ".\n",
      "h_gorup shape: (196, 5)\n",
      "l_gorup shape: (196, 5)\n",
      ".\n",
      "h_gorup shape: (226, 5)\n",
      "l_gorup shape: (226, 5)\n",
      ".\n",
      "h_gorup shape: (256, 5)\n",
      "l_gorup shape: (256, 5)\n",
      ".\n",
      "h_gorup shape: (287, 5)\n",
      "l_gorup shape: (287, 5)\n",
      ".\n",
      "h_gorup shape: (318, 5)\n",
      "l_gorup shape: (318, 5)\n",
      ".\n",
      "h_gorup shape: (348, 5)\n",
      "l_gorup shape: (348, 5)\n",
      ".\n",
      "h_gorup shape: (375, 5)\n",
      "l_gorup shape: (375, 5)\n",
      ".\n",
      "h_gorup shape: (402, 5)\n",
      "l_gorup shape: (402, 5)\n",
      ".\n",
      "h_gorup shape: (427, 5)\n",
      "l_gorup shape: (427, 5)\n",
      ".\n",
      "h_gorup shape: (446, 5)\n",
      "l_gorup shape: (446, 5)\n",
      ".\n"
     ]
    },
    {
     "data": {
      "text/plain": [
       "{'darwin_mode': 285, 'learning_mode': 15, 'total_iterations': 15}"
      ]
     },
     "execution_count": 113,
     "metadata": {},
     "output_type": "execute_result"
    }
   ],
   "source": [
    "lemoo.run_iterations()"
   ]
  },
  {
   "cell_type": "markdown",
   "id": "47b76325-93eb-4da7-885b-3fbd9453b47e",
   "metadata": {},
   "source": [
    "## Extract most accurate rules"
   ]
  },
  {
   "cell_type": "code",
   "execution_count": 114,
   "id": "543b80ec-c0ef-4052-bef1-64cb3da47310",
   "metadata": {},
   "outputs": [
    {
     "name": "stdout",
     "output_type": "stream",
     "text": [
      "X_0: {'>': [1.00219, 0.49947379311924145], '<=': [1.00893, 0.9475806451612904]}\n",
      "X_1: {'>': [2.99815, 1.0], '<=': [3.0, -1]}\n",
      "X_2: {'>': [1.0, -1], '<=': [1.00022, 1.0]}\n",
      "X_3: {'>': [1.0, -1], '<=': [1.25205, 1.0]}\n",
      "X_4: {'>': [2.99784, 1.0], '<=': [3.0, -1]}\n"
     ]
    }
   ],
   "source": [
    "rules, accuracies = extract_skoped_rules(lemoo.current_ml_model)\n",
    "problem_lower_bounds = problem.get_variable_lower_bounds()\n",
    "problem_upper_bounds = problem.get_variable_upper_bounds()\n",
    "\n",
    "rules_for_vars = {f\"X_{i}\": {\">\": [problem_lower_bounds[i], -1], \"<=\": [problem_upper_bounds[i], -1]} for i in range(n_variables)}\n",
    "\n",
    "for accuracy, rule in zip(accuravies, rules):\n",
    "    for key in rule:\n",
    "        var_name = key[0]\n",
    "        op = key[1]\n",
    "        \n",
    "        # check accuracy\n",
    "        if rules_for_vars[var_name][op][1] < accuracy: \n",
    "            # update accuracy\n",
    "            rules_for_vars[var_name][op][1] = accuracy\n",
    "            if op == \"<=\":\n",
    "                # tighten rule, if necessary\n",
    "                if float(rule[(var_name, op)]) <= rules_for_vars[var_name][op][0]:\n",
    "                    rules_for_vars[var_name][op][0] = float(rule[(var_name, op)])\n",
    "            elif op == \">\":\n",
    "                # tighten rule, if necessary\n",
    "                if float(rule[(var_name, op)]) > rules_for_vars[var_name][op][0]:\n",
    "                    rules_for_vars[var_name][op][0] = float(rule[(var_name, op)])\n",
    "            \n",
    "for rule in rules_for_vars:\n",
    "    print(f\"{rule}: {rules_for_vars[rule]}\")"
   ]
  },
  {
   "cell_type": "markdown",
   "id": "ab3e9c39-ceed-4112-a1b4-454efc9f64db",
   "metadata": {},
   "source": [
    "## Extract bounds of the final population"
   ]
  },
  {
   "cell_type": "code",
   "execution_count": 110,
   "id": "faa0e96c-ef9c-40e3-9831-f15fb98ebdfb",
   "metadata": {},
   "outputs": [
    {
     "data": {
      "text/plain": [
       "{'X_0': {'>': 1.0018813959737811, '<=': 1.0018814114835006},\n",
       " 'X_1': {'>': 2.9999999999988414, '<=': 3.0},\n",
       " 'X_2': {'>': 1.0000000000004012, '<=': 1.0000000001099774},\n",
       " 'X_3': {'>': 1.2487838075325863, '<=': 1.2487838100073767},\n",
       " 'X_4': {'>': 2.999999999893158, '<=': 3.0}}"
      ]
     },
     "execution_count": 110,
     "metadata": {},
     "output_type": "execute_result"
    }
   ],
   "source": [
    "lower_bounds = np.min(lemoo._generation_history[-1].individuals, axis=0)\n",
    "upper_bounds = np.max(lemoo._generation_history[-1].individuals, axis=0)\n",
    "\n",
    "bounds_for_vars = {f\"X_{i}\": {\">\": lower_bounds[i], \"<=\": upper_bounds[i]} for i in range(n_variables)}\n",
    "\n",
    "bounds_for_vars"
   ]
  },
  {
   "cell_type": "code",
   "execution_count": 111,
   "id": "96a6fca7-6c30-4302-8adf-94d9e2ec857c",
   "metadata": {},
   "outputs": [
    {
     "data": {
      "text/plain": [
       "array([1.67718912e+03, 7.60398728e+00, 6.88088390e-02])"
      ]
     },
     "execution_count": 111,
     "metadata": {},
     "output_type": "execute_result"
    }
   ],
   "source": [
    "lemoo._generation_history[-1].objectives_fitnesses[0]"
   ]
  },
  {
   "cell_type": "code",
   "execution_count": null,
   "id": "48bb3493-1350-473d-adeb-d4f01db5ab0a",
   "metadata": {},
   "outputs": [],
   "source": []
  }
 ],
 "metadata": {
  "kernelspec": {
   "display_name": "XLEMOO",
   "language": "python",
   "name": "xlemoo"
  },
  "language_info": {
   "codemirror_mode": {
    "name": "ipython",
    "version": 3
   },
   "file_extension": ".py",
   "mimetype": "text/x-python",
   "name": "python",
   "nbconvert_exporter": "python",
   "pygments_lexer": "ipython3",
   "version": "3.8.12"
  }
 },
 "nbformat": 4,
 "nbformat_minor": 5
}
