{
 "cells": [
  {
   "cell_type": "code",
   "execution_count": 1,
   "id": "b65709c6-67b5-4c37-bf6a-2d539eb83c78",
   "metadata": {},
   "outputs": [],
   "source": [
    "import sys\n",
    "sys.path.append(\"../../XLEMOO\")"
   ]
  },
  {
   "cell_type": "code",
   "execution_count": 8,
   "id": "6065d790-6ab1-480d-9922-bc74ad0110a8",
   "metadata": {},
   "outputs": [],
   "source": [
    "from XLEMOO.LEMOO import EAParams, MLParams, LEMParams, LEMOO, PastGeneration\n",
    "from XLEMOO.fitness_indicators import asf_wrapper\n",
    "from XLEMOO.selection import SelectNBest\n",
    "from XLEMOO.plotting import show_rules\n",
    "from desdeo_emo.recombination import SBX_xover, BP_mutation\n",
    "from desdeo_tools.scalarization.ASF import PointMethodASF\n",
    "from desdeo_problem.testproblems import vehicle_crashworthiness\n",
    "\n",
    "import matplotlib.pyplot as plt\n",
    "import numpy as np\n",
    "from imodels import SkopeRulesClassifier"
   ]
  },
  {
   "cell_type": "markdown",
   "id": "edef70a1-e421-4b0a-99c2-e666af62c2f9",
   "metadata": {},
   "source": [
    "## Initialize the problem"
   ]
  },
  {
   "cell_type": "code",
   "execution_count": 3,
   "id": "d7993f78-b475-4249-9f9e-5608b82a2dff",
   "metadata": {},
   "outputs": [],
   "source": [
    "n_objectives = 3\n",
    "n_variables = 5\n",
    "\n",
    "problem = vehicle_crashworthiness()"
   ]
  },
  {
   "cell_type": "markdown",
   "id": "486f50ea-1b59-4a77-82f5-0bc8a0e7882e",
   "metadata": {},
   "source": [
    "## Initialize an XLEMOO method"
   ]
  },
  {
   "cell_type": "code",
   "execution_count": 10,
   "id": "a52f71a1-2f4a-428e-9ff5-215947a761ab",
   "metadata": {},
   "outputs": [],
   "source": [
    "ideal = np.array([1600.0, 6.0, 0.038])\n",
    "nadir = np.array([1700.0, 12.0, 0.2])\n",
    "ref_point = np.array([1650.0, 7.0, 0.05])  # the reference point\n",
    "\n",
    "# define the achievement scalarizing function as the fitness function\n",
    "ref_asf = asf_wrapper(PointMethodASF(ideal=ideal, nadir=nadir), {\"reference_point\": ref_point})\n",
    "fitness_fun = ref_asf\n",
    "\n",
    "lem_params = LEMParams(\n",
    "    use_darwin=True,\n",
    "    use_ml=True,\n",
    "    fitness_indicator=fitness_fun,\n",
    "    ml_probe = 1,\n",
    "    ml_threshold = None,\n",
    "    darwin_probe = None,\n",
    "    darwin_threshold = None,\n",
    "    total_iterations=15,\n",
    ")\n",
    "\n",
    "ea_params = EAParams(\n",
    "    population_size=50,\n",
    "    cross_over_op=SBX_xover(),\n",
    "    mutation_op=BP_mutation(problem.get_variable_lower_bounds(), problem.get_variable_upper_bounds()),\n",
    "    selection_op=SelectNBest(None, 50),  # keep population size constant\n",
    "    population_init_design=\"LHSDesign\",\n",
    "    iterations_per_cycle=19,\n",
    ")\n",
    "\n",
    "ml = SkopeRulesClassifier(precision_min=0.1, n_estimators=30, max_features=None, max_depth=None, bootstrap=True, bootstrap_features=True)\n",
    "ml_params = MLParams(\n",
    "    H_split=0.25,\n",
    "    L_split=0.25,\n",
    "    ml_model=ml,\n",
    "    instantation_factor=10,\n",
    "    generation_lookback=0,\n",
    "    ancestral_recall=0,\n",
    "    unique_only=True,\n",
    "    iterations_per_cycle=1,\n",
    ")\n",
    "\n",
    "lemoo = LEMOO(problem, lem_params, ea_params, ml_params)"
   ]
  },
  {
   "cell_type": "markdown",
   "id": "78415f5d-1d24-44a9-935e-396da3dfe2ba",
   "metadata": {},
   "source": [
    "## Run the XLEMOO method"
   ]
  },
  {
   "cell_type": "code",
   "execution_count": 11,
   "id": "73c2c992-74e5-4802-b7c8-b3bb70de3be9",
   "metadata": {
    "tags": []
   },
   "outputs": [
    {
     "name": "stdout",
     "output_type": "stream",
     "text": [
      "h_gorup shape: (111, 5)\n",
      "l_gorup shape: (111, 5)\n",
      ".\n",
      "h_gorup shape: (188, 5)\n",
      "l_gorup shape: (188, 5)\n",
      ".\n",
      "h_gorup shape: (267, 5)\n",
      "l_gorup shape: (267, 5)\n",
      ".\n",
      "h_gorup shape: (349, 5)\n",
      "l_gorup shape: (349, 5)\n",
      ".\n",
      "h_gorup shape: (428, 5)\n",
      "l_gorup shape: (428, 5)\n",
      ".\n",
      "h_gorup shape: (509, 5)\n",
      "l_gorup shape: (509, 5)\n",
      ".\n",
      "h_gorup shape: (587, 5)\n",
      "l_gorup shape: (587, 5)\n",
      ".\n",
      "h_gorup shape: (667, 5)\n",
      "l_gorup shape: (667, 5)\n",
      ".\n",
      "h_gorup shape: (743, 5)\n",
      "l_gorup shape: (743, 5)\n",
      ".\n",
      "h_gorup shape: (829, 5)\n",
      "l_gorup shape: (829, 5)\n",
      ".\n",
      "h_gorup shape: (932, 5)\n",
      "l_gorup shape: (932, 5)\n",
      ".\n",
      "h_gorup shape: (1017, 5)\n",
      "l_gorup shape: (1017, 5)\n",
      ".\n",
      "h_gorup shape: (1097, 5)\n",
      "l_gorup shape: (1097, 5)\n",
      ".\n",
      "h_gorup shape: (1169, 5)\n",
      "l_gorup shape: (1169, 5)\n",
      ".\n",
      "h_gorup shape: (1219, 5)\n",
      "l_gorup shape: (1219, 5)\n",
      ".\n"
     ]
    },
    {
     "data": {
      "text/plain": [
       "{'darwin_mode': 285, 'learning_mode': 15, 'total_iterations': 15}"
      ]
     },
     "execution_count": 11,
     "metadata": {},
     "output_type": "execute_result"
    }
   ],
   "source": [
    "lemoo.run_iterations()"
   ]
  },
  {
   "cell_type": "markdown",
   "id": "8be5375c-f104-4e7f-8346-5e54b41bfcb7",
   "metadata": {},
   "source": [
    "## Print the raw rules based on the final population"
   ]
  },
  {
   "cell_type": "code",
   "execution_count": 14,
   "id": "608150c8-8d42-4859-bed1-d61d2e892b92",
   "metadata": {},
   "outputs": [
    {
     "name": "stdout",
     "output_type": "stream",
     "text": [
      "Rule -> Accuracy:\n",
      "X_0 <= 1.0 and X_1 > 1.32191 and X_2 <= 1.00028 --> 0.9982014388489209\n",
      "X_0 <= 1.0 and X_2 <= 1.00028 and X_4 <= 1.23973 --> 1.0\n",
      "X_0 <= 1.0 and X_1 > 2.9942 and X_2 <= 1.00021 --> 1.0\n",
      "X_0 <= 1.0 and X_4 <= 1.24221 --> 1.0\n",
      "X_0 <= 1.0 and X_1 > 1.32115 and X_2 <= 1.00028 --> 0.9981684981684982\n",
      "X_0 <= 1.0 and X_2 <= 1.00021 and X_4 <= 1.24221 --> 1.0\n",
      "X_0 <= 1.0 and X_2 <= 1.00021 and X_4 <= 1.23973 --> 1.0\n",
      "X_0 <= 1.0 and X_1 > 1.32191 and X_4 <= 1.42858 --> 1.0\n",
      "X_0 <= 1.0 and X_1 > 2.9942 --> 1.0\n",
      "X_0 <= 1.0 and X_2 <= 1.00021 --> 0.996415770609319\n",
      "X_1 <= 2.99975 and X_1 > 2.99974 --> 0.9926873857404022\n",
      "X_0 <= 1.0 and X_4 <= 1.23973 --> 1.0\n",
      "X_3 <= 1.38064 and X_3 > 1.37765 and X_4 <= 1.0 --> 0.9979528634767376\n",
      "X_3 <= 1.38063 and X_3 > 1.37723 and X_4 <= 1.0 --> 0.9978308026030369\n",
      "X_1 <= 2.99975 and X_1 > 2.99965 and X_4 <= 1.0 --> 1.0\n",
      "X_1 > 2.99962 and X_3 <= 1.38064 and X_4 <= 1.0 --> 1.0\n",
      "X_3 <= 1.38064 and X_3 > 1.37723 and X_4 <= 1.0 --> 0.9979381443298969\n",
      "X_3 <= 1.38065 and X_3 > 1.3762 and X_4 <= 1.0 --> 0.9978991596638656\n",
      "X_3 <= 1.38064 and X_3 > 1.37966 and X_4 <= 1.0 --> 1.0\n",
      "X_1 > 2.99964 and X_2 <= 1.0 and X_4 <= 1.0 --> 1.0\n",
      "X_1 > 2.99965 and X_2 <= 1.0 and X_4 <= 1.0 --> 1.0\n",
      "X_2 <= 1.0 and X_4 <= 1.0 --> 0.9787234042553191\n",
      "X_1 <= 2.99975 and X_1 > 2.99973 and X_2 <= 1.0 --> 1.0\n",
      "X_2 <= 1.0 and X_3 <= 1.38061 and X_3 > 1.37772 --> 1.0\n",
      "X_2 > 1.0 and X_4 <= 1.0 --> 0.8708603267251601\n",
      "X_2 > 1.0 and X_3 > 1.00549 --> 0.3477633477633478\n",
      "X_2 > 1.0 and X_3 > 1.00088 --> 0.3211267605633803\n",
      "X_2 > 1.0 and X_3 > 1.00671 --> 0.3100558659217877\n",
      "X_3 > 1.00712 and X_4 > 1.0 --> 0.10488245931283906\n",
      "X_3 > 1.00722 and X_4 > 1.0 --> 0.10507246376811594\n",
      "X_3 > 1.0055 and X_4 > 1.0 --> 0.10301953818827708\n",
      "X_4 <= 2.32324 and X_4 > 1.0 --> 0.10416666666666667\n",
      "X_2 <= 1.0 and X_3 <= 1.38063 and X_3 > 1.38062 --> 0.9642857142857143\n",
      "X_1 <= 1.4613 and X_1 > 1.25341 and X_3 <= 1.00599 and X_4 > 1.0 --> 0.9\n",
      "X_2 <= 1.00105 and X_4 > 2.32324 --> 1.0\n",
      "X_2 <= 1.00102 and X_3 <= 1.00658 and X_4 > 2.28529 --> 1.0\n",
      "X_0 <= 1.0 and X_3 <= 1.07439 and X_4 > 1.23973 --> 1.0\n",
      "X_0 <= 1.0 and X_1 <= 2.9942 and X_3 <= 1.07389 --> 1.0\n",
      "X_0 <= 1.0 and X_1 <= 2.18841 and X_1 > 1.32191 --> 1.0\n",
      "X_0 <= 1.0 and X_1 <= 2.18957 and X_4 > 1.24221 --> 0.8571428571428571\n",
      "X_2 <= 1.001 and X_4 > 2.32324 --> 1.0\n"
     ]
    }
   ],
   "source": [
    "show_rules(lemoo.current_ml_model.rules_)"
   ]
  }
 ],
 "metadata": {
  "kernelspec": {
   "display_name": "xlemoo",
   "language": "python",
   "name": "xlemoo"
  },
  "language_info": {
   "codemirror_mode": {
    "name": "ipython",
    "version": 3
   },
   "file_extension": ".py",
   "mimetype": "text/x-python",
   "name": "python",
   "nbconvert_exporter": "python",
   "pygments_lexer": "ipython3",
   "version": "3.8.12"
  }
 },
 "nbformat": 4,
 "nbformat_minor": 5
}
