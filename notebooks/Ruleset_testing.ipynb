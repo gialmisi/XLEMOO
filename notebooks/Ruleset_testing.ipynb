{
 "cells": [
  {
   "cell_type": "code",
   "execution_count": 1,
   "id": "40484a3e-6202-4a65-956b-c544e4225289",
   "metadata": {},
   "outputs": [],
   "source": [
    "import sys\n",
    "sys.path.append(\"../../XLEMOO\")\n",
    "from imodels import SkopeRulesClassifier, RuleFitClassifier, BoostedRulesClassifier, SlipperClassifier, BayesianRuleSetClassifier\n",
    "from imodels.util.convert import tree_to_rules\n",
    "from sklearn.datasets import load_breast_cancer\n",
    "import numpy as np\n",
    "import pandas as pd\n",
    "\n"
   ]
  },
  {
   "cell_type": "code",
   "execution_count": 32,
   "id": "3181238d-c5b0-4f82-a9e7-ac69ed7be934",
   "metadata": {},
   "outputs": [],
   "source": [
    "# Create stupid data\n",
    "## When x_1 + x_2 > x_3, then y = 1, else y = 0\n",
    "x_train = np.random.uniform(0, 1, (1000, 3))\n",
    "\n",
    "y_train = np.where(x_train[:, 0] + x_train[:, 1] > 2*x_train[:, 2], 1, 0)\n",
    "\n",
    "feature_names = [\"X_1\", \"X_2\", \"X_3\"]"
   ]
  },
  {
   "cell_type": "code",
   "execution_count": 33,
   "id": "4e272fcc-1d4b-46e2-bd43-2805d8661c0b",
   "metadata": {},
   "outputs": [
    {
     "data": {
      "text/html": [
       "<style>#sk-container-id-5 {color: black;background-color: white;}#sk-container-id-5 pre{padding: 0;}#sk-container-id-5 div.sk-toggleable {background-color: white;}#sk-container-id-5 label.sk-toggleable__label {cursor: pointer;display: block;width: 100%;margin-bottom: 0;padding: 0.3em;box-sizing: border-box;text-align: center;}#sk-container-id-5 label.sk-toggleable__label-arrow:before {content: \"▸\";float: left;margin-right: 0.25em;color: #696969;}#sk-container-id-5 label.sk-toggleable__label-arrow:hover:before {color: black;}#sk-container-id-5 div.sk-estimator:hover label.sk-toggleable__label-arrow:before {color: black;}#sk-container-id-5 div.sk-toggleable__content {max-height: 0;max-width: 0;overflow: hidden;text-align: left;background-color: #f0f8ff;}#sk-container-id-5 div.sk-toggleable__content pre {margin: 0.2em;color: black;border-radius: 0.25em;background-color: #f0f8ff;}#sk-container-id-5 input.sk-toggleable__control:checked~div.sk-toggleable__content {max-height: 200px;max-width: 100%;overflow: auto;}#sk-container-id-5 input.sk-toggleable__control:checked~label.sk-toggleable__label-arrow:before {content: \"▾\";}#sk-container-id-5 div.sk-estimator input.sk-toggleable__control:checked~label.sk-toggleable__label {background-color: #d4ebff;}#sk-container-id-5 div.sk-label input.sk-toggleable__control:checked~label.sk-toggleable__label {background-color: #d4ebff;}#sk-container-id-5 input.sk-hidden--visually {border: 0;clip: rect(1px 1px 1px 1px);clip: rect(1px, 1px, 1px, 1px);height: 1px;margin: -1px;overflow: hidden;padding: 0;position: absolute;width: 1px;}#sk-container-id-5 div.sk-estimator {font-family: monospace;background-color: #f0f8ff;border: 1px dotted black;border-radius: 0.25em;box-sizing: border-box;margin-bottom: 0.5em;}#sk-container-id-5 div.sk-estimator:hover {background-color: #d4ebff;}#sk-container-id-5 div.sk-parallel-item::after {content: \"\";width: 100%;border-bottom: 1px solid gray;flex-grow: 1;}#sk-container-id-5 div.sk-label:hover label.sk-toggleable__label {background-color: #d4ebff;}#sk-container-id-5 div.sk-serial::before {content: \"\";position: absolute;border-left: 1px solid gray;box-sizing: border-box;top: 0;bottom: 0;left: 50%;z-index: 0;}#sk-container-id-5 div.sk-serial {display: flex;flex-direction: column;align-items: center;background-color: white;padding-right: 0.2em;padding-left: 0.2em;position: relative;}#sk-container-id-5 div.sk-item {position: relative;z-index: 1;}#sk-container-id-5 div.sk-parallel {display: flex;align-items: stretch;justify-content: center;background-color: white;position: relative;}#sk-container-id-5 div.sk-item::before, #sk-container-id-5 div.sk-parallel-item::before {content: \"\";position: absolute;border-left: 1px solid gray;box-sizing: border-box;top: 0;bottom: 0;left: 50%;z-index: -1;}#sk-container-id-5 div.sk-parallel-item {display: flex;flex-direction: column;z-index: 1;position: relative;background-color: white;}#sk-container-id-5 div.sk-parallel-item:first-child::after {align-self: flex-end;width: 50%;}#sk-container-id-5 div.sk-parallel-item:last-child::after {align-self: flex-start;width: 50%;}#sk-container-id-5 div.sk-parallel-item:only-child::after {width: 0;}#sk-container-id-5 div.sk-dashed-wrapped {border: 1px dashed gray;margin: 0 0.4em 0.5em 0.4em;box-sizing: border-box;padding-bottom: 0.4em;background-color: white;}#sk-container-id-5 div.sk-label label {font-family: monospace;font-weight: bold;display: inline-block;line-height: 1.2em;}#sk-container-id-5 div.sk-label-container {text-align: center;}#sk-container-id-5 div.sk-container {/* jupyter's `normalize.less` sets `[hidden] { display: none; }` but bootstrap.min.css set `[hidden] { display: none !important; }` so we also need the `!important` here to be able to override the default hidden behavior on the sphinx rendered scikit-learn.org. See: https://github.com/scikit-learn/scikit-learn/issues/21755 */display: inline-block !important;position: relative;}#sk-container-id-5 div.sk-text-repr-fallback {display: none;}</style><div id=\"sk-container-id-5\" class=\"sk-top-container\"><div class=\"sk-text-repr-fallback\"><pre>&gt; ------------------------------\n",
       "&gt; BoostedRules:\n",
       "&gt; \tRule → predicted probability (final prediction is weighted sum of all predictions)\n",
       "&gt; ------------------------------\n",
       "  If\u001b[96m X_1 &gt; 0.2338583803282113 and X_2 &gt; 0.28471205968230534 and X_3 &lt; 0.4267436469262158\u001b[00m → 0.24 (weight: 0.55)\n",
       "  If\u001b[96m X_1 &gt; 0.4190906517931768 and X_2 &gt; 0.0957190437305192 and X_3 &lt; 0.410215482411645\u001b[00m → 0.22 (weight: 0.11)\n",
       "  If\u001b[96m X_1 &gt; 0.3905004671652015 and X_3 &lt; 0.3957456147469098\u001b[00m → 0.24 (weight: 0.05)\n",
       "  If\u001b[96m X_2 &gt; 0.2340351891820972 and X_3 &lt; 0.36167789924112537\u001b[00m → 0.28 (weight: 0.20)\n",
       "  If\u001b[96m X_1 &gt; 0.42701973701035495 and X_2 &gt; 0.10003092939387585 and X_3 &lt; 0.4277249770509675\u001b[00m → 0.23 (weight: -0.13)\n",
       "</pre><b>In a Jupyter environment, please rerun this cell to show the HTML representation or trust the notebook. <br />On GitHub, the HTML representation is unable to render, please try loading this page with nbviewer.org.</b></div><div class=\"sk-container\" hidden><div class=\"sk-item\"><div class=\"sk-estimator sk-toggleable\"><input class=\"sk-toggleable__control sk-hidden--visually\" id=\"sk-estimator-id-5\" type=\"checkbox\" checked><label for=\"sk-estimator-id-5\" class=\"sk-toggleable__label sk-toggleable__label-arrow\">SlipperClassifier</label><div class=\"sk-toggleable__content\"><pre>&gt; ------------------------------\n",
       "&gt; BoostedRules:\n",
       "&gt; \tRule → predicted probability (final prediction is weighted sum of all predictions)\n",
       "&gt; ------------------------------\n",
       "  If\u001b[96m X_1 &gt; 0.2338583803282113 and X_2 &gt; 0.28471205968230534 and X_3 &lt; 0.4267436469262158\u001b[00m → 0.24 (weight: 0.55)\n",
       "  If\u001b[96m X_1 &gt; 0.4190906517931768 and X_2 &gt; 0.0957190437305192 and X_3 &lt; 0.410215482411645\u001b[00m → 0.22 (weight: 0.11)\n",
       "  If\u001b[96m X_1 &gt; 0.3905004671652015 and X_3 &lt; 0.3957456147469098\u001b[00m → 0.24 (weight: 0.05)\n",
       "  If\u001b[96m X_2 &gt; 0.2340351891820972 and X_3 &lt; 0.36167789924112537\u001b[00m → 0.28 (weight: 0.20)\n",
       "  If\u001b[96m X_1 &gt; 0.42701973701035495 and X_2 &gt; 0.10003092939387585 and X_3 &lt; 0.4277249770509675\u001b[00m → 0.23 (weight: -0.13)\n",
       "</pre></div></div></div></div></div>"
      ],
      "text/plain": [
       "SlipperClassifier(n_estimators=5)"
      ]
     },
     "execution_count": 33,
     "metadata": {},
     "output_type": "execute_result"
    }
   ],
   "source": [
    "# classifier = SkopeRulesClassifier(precision_min=0.80, recall_min=0.3)\n",
    "# classifier = RuleFitClassifier(max_rules=20)\n",
    "# classifier = BoostedRulesClassifier()\n",
    "classifier = SlipperClassifier(n_estimators=5)\n",
    "# classifier = BayesianRuleSetClassifier()\n",
    "\n",
    "classifier.fit(x_train, y_train, feature_names=feature_names)\n",
    "\n",
    "# discretizer = BasicDiscretizer(n_bins=10)\n",
    "# discretizer.fit(pd.DataFrame(x_train))"
   ]
  },
  {
   "cell_type": "code",
   "execution_count": 39,
   "id": "67624d7f-cf09-4da5-abff-6c8ceab0116c",
   "metadata": {},
   "outputs": [
    {
     "data": {
      "text/plain": [
       "2"
      ]
     },
     "execution_count": 39,
     "metadata": {},
     "output_type": "execute_result"
    }
   ],
   "source": [
    "np.argmax(classifier.estimator_mean_prediction_)\n",
    "np.argmax(classifier.estimator_weights_[1:])"
   ]
  },
  {
   "cell_type": "code",
   "execution_count": 40,
   "id": "f750e743-58a4-4339-9ced-4123e17e4933",
   "metadata": {},
   "outputs": [
    {
     "data": {
      "text/plain": [
       "X_2 > 0.2340351891820972 and X_3 < 0.36167789924112537"
      ]
     },
     "execution_count": 40,
     "metadata": {},
     "output_type": "execute_result"
    }
   ],
   "source": [
    "classifier.rules_[1:][2]"
   ]
  },
  {
   "cell_type": "code",
   "execution_count": 18,
   "id": "891450c5-5e8f-4c7a-a4e6-93e00a76037b",
   "metadata": {},
   "outputs": [
    {
     "data": {
      "text/plain": [
       "['__class__',\n",
       " '__delattr__',\n",
       " '__dict__',\n",
       " '__dir__',\n",
       " '__doc__',\n",
       " '__eq__',\n",
       " '__format__',\n",
       " '__ge__',\n",
       " '__getattribute__',\n",
       " '__gt__',\n",
       " '__hash__',\n",
       " '__init__',\n",
       " '__init_subclass__',\n",
       " '__iter__',\n",
       " '__le__',\n",
       " '__lt__',\n",
       " '__module__',\n",
       " '__ne__',\n",
       " '__new__',\n",
       " '__reduce__',\n",
       " '__reduce_ex__',\n",
       " '__repr__',\n",
       " '__setattr__',\n",
       " '__sizeof__',\n",
       " '__slotnames__',\n",
       " '__str__',\n",
       " '__subclasshook__',\n",
       " '__weakref__',\n",
       " 'agg_dict',\n",
       " 'args',\n",
       " 'factorize',\n",
       " 'rule',\n",
       " 'support',\n",
       " 'terms']"
      ]
     },
     "execution_count": 18,
     "metadata": {},
     "output_type": "execute_result"
    }
   ],
   "source": [
    "dir(classifier.rules_[0])"
   ]
  },
  {
   "cell_type": "code",
   "execution_count": 44,
   "id": "2fe180c0-f97e-47fe-8b1c-4281fe280d5a",
   "metadata": {},
   "outputs": [
    {
     "data": {
      "text/plain": [
       "['__class__',\n",
       " '__delattr__',\n",
       " '__dict__',\n",
       " '__dir__',\n",
       " '__doc__',\n",
       " '__eq__',\n",
       " '__format__',\n",
       " '__ge__',\n",
       " '__getattribute__',\n",
       " '__gt__',\n",
       " '__hash__',\n",
       " '__init__',\n",
       " '__init_subclass__',\n",
       " '__iter__',\n",
       " '__le__',\n",
       " '__lt__',\n",
       " '__module__',\n",
       " '__ne__',\n",
       " '__new__',\n",
       " '__reduce__',\n",
       " '__reduce_ex__',\n",
       " '__repr__',\n",
       " '__setattr__',\n",
       " '__sizeof__',\n",
       " '__slotnames__',\n",
       " '__str__',\n",
       " '__subclasshook__',\n",
       " '__weakref__',\n",
       " 'agg_dict',\n",
       " 'args',\n",
       " 'factorize',\n",
       " 'rule',\n",
       " 'support',\n",
       " 'terms']"
      ]
     },
     "execution_count": 44,
     "metadata": {},
     "output_type": "execute_result"
    }
   ],
   "source": [
    "dir(classifier.rules_[0])"
   ]
  },
  {
   "cell_type": "code",
   "execution_count": 62,
   "id": "272b6b38-7727-4eeb-a8b2-cd0f86724ef7",
   "metadata": {},
   "outputs": [
    {
     "data": {
      "text/plain": [
       "dict_keys([('X_3', '<'), ('X_2', '>'), ('X_1', '>')])"
      ]
     },
     "execution_count": 62,
     "metadata": {},
     "output_type": "execute_result"
    }
   ],
   "source": [
    "classifier.rules_[0].agg_dict.keys()"
   ]
  },
  {
   "cell_type": "code",
   "execution_count": 65,
   "id": "4da12ca0-5d79-4e0b-b5a8-b620eac7ac19",
   "metadata": {},
   "outputs": [
    {
     "data": {
      "text/plain": [
       "{('X_3', '<'): '0.4267436469262158',\n",
       " ('X_2', '>'): '0.28471205968230534',\n",
       " ('X_1', '>'): '0.2338583803282113'}"
      ]
     },
     "execution_count": 65,
     "metadata": {},
     "output_type": "execute_result"
    }
   ],
   "source": [
    "classifier.rules_[0].agg_dict"
   ]
  },
  {
   "cell_type": "code",
   "execution_count": 64,
   "id": "9c2ecad5-5be9-4151-a3c6-0ed0330aaca7",
   "metadata": {},
   "outputs": [
    {
     "data": {
      "text/plain": [
       "X_1 > 0.2338583803282113 and X_2 > 0.28471205968230534 and X_3 < 0.4267436469262158"
      ]
     },
     "execution_count": 64,
     "metadata": {},
     "output_type": "execute_result"
    }
   ],
   "source": [
    "classifier.rules_[0]"
   ]
  },
  {
   "cell_type": "code",
   "execution_count": null,
   "id": "fa63142d-b049-404c-a333-ef85af174e9d",
   "metadata": {},
   "outputs": [],
   "source": []
  }
 ],
 "metadata": {
  "kernelspec": {
   "display_name": "xlemoo",
   "language": "python",
   "name": "xlemoo"
  },
  "language_info": {
   "codemirror_mode": {
    "name": "ipython",
    "version": 3
   },
   "file_extension": ".py",
   "mimetype": "text/x-python",
   "name": "python",
   "nbconvert_exporter": "python",
   "pygments_lexer": "ipython3",
   "version": "3.8.12"
  }
 },
 "nbformat": 4,
 "nbformat_minor": 5
}
