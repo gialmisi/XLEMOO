{
 "cells": [
  {
   "cell_type": "code",
   "execution_count": null,
   "id": "40484a3e-6202-4a65-956b-c544e4225289",
   "metadata": {},
   "outputs": [],
   "source": [
    "import sys\n",
    "sys.path.append(\"../../XLEMOO\")\n",
    "from imodels import SkopeRulesClassifier, RuleFitClassifier, BoostedRulesClassifier, SlipperClassifier, BayesianRuleSetClassifier\n",
    "from imodels.util.convert import tree_to_rules\n",
    "from sklearn.datasets import load_breast_cancer\n",
    "import numpy as np\n",
    "import pandas as pd\n",
    "\n"
   ]
  },
  {
   "cell_type": "code",
   "execution_count": null,
   "id": "3181238d-c5b0-4f82-a9e7-ac69ed7be934",
   "metadata": {},
   "outputs": [],
   "source": [
    "# Create stupid data\n",
    "## When x_1 + x_2 > x_3, then y = 1, else y = 0\n",
    "x_train = np.random.uniform(0, 1, (1000, 3))\n",
    "\n",
    "y_train = np.where(x_train[:, 0] + x_train[:, 1] > 2*x_train[:, 2], 1, 0)\n",
    "\n",
    "feature_names = [\"X_1\", \"X_2\", \"X_3\"]"
   ]
  },
  {
   "cell_type": "code",
   "execution_count": null,
   "id": "4e272fcc-1d4b-46e2-bd43-2805d8661c0b",
   "metadata": {},
   "outputs": [],
   "source": [
    "# classifier = SkopeRulesClassifier(precision_min=0.80, recall_min=0.3)\n",
    "# classifier = RuleFitClassifier(max_rules=20)\n",
    "# classifier = BoostedRulesClassifier()\n",
    "classifier = SlipperClassifier(n_estimators=5)\n",
    "# classifier = BayesianRuleSetClassifier()\n",
    "\n",
    "classifier.fit(x_train, y_train, feature_names=feature_names)\n",
    "\n",
    "# discretizer = BasicDiscretizer(n_bins=10)\n",
    "# discretizer.fit(pd.DataFrame(x_train))"
   ]
  },
  {
   "cell_type": "code",
   "execution_count": null,
   "id": "67624d7f-cf09-4da5-abff-6c8ceab0116c",
   "metadata": {},
   "outputs": [],
   "source": [
    "np.argmax(classifier.estimator_mean_prediction_)\n",
    "np.argmax(classifier.estimator_weights_)"
   ]
  },
  {
   "cell_type": "code",
   "execution_count": null,
   "id": "f750e743-58a4-4339-9ced-4123e17e4933",
   "metadata": {},
   "outputs": [],
   "source": [
    "classifier.rules_[0]"
   ]
  },
  {
   "cell_type": "code",
   "execution_count": null,
   "id": "891450c5-5e8f-4c7a-a4e6-93e00a76037b",
   "metadata": {},
   "outputs": [],
   "source": [
    "classifier.estimator_weights_"
   ]
  },
  {
   "cell_type": "code",
   "execution_count": null,
   "id": "2fe180c0-f97e-47fe-8b1c-4281fe280d5a",
   "metadata": {},
   "outputs": [],
   "source": [
    "[rule.agg_dict for rule in classifier.rules_]"
   ]
  },
  {
   "cell_type": "code",
   "execution_count": null,
   "id": "272b6b38-7727-4eeb-a8b2-cd0f86724ef7",
   "metadata": {},
   "outputs": [],
   "source": [
    "classifier.estimator_mean_prediction_"
   ]
  },
  {
   "cell_type": "code",
   "execution_count": null,
   "id": "4da12ca0-5d79-4e0b-b5a8-b620eac7ac19",
   "metadata": {},
   "outputs": [],
   "source": [
    "classifier"
   ]
  },
  {
   "cell_type": "code",
   "execution_count": null,
   "id": "9c2ecad5-5be9-4151-a3c6-0ed0330aaca7",
   "metadata": {},
   "outputs": [],
   "source": [
    "classifier.rules_[0]"
   ]
  },
  {
   "cell_type": "code",
   "execution_count": null,
   "id": "fa63142d-b049-404c-a333-ef85af174e9d",
   "metadata": {},
   "outputs": [],
   "source": []
  }
 ],
 "metadata": {
  "kernelspec": {
   "display_name": "XLEMOO",
   "language": "python",
   "name": "xlemoo"
  },
  "language_info": {
   "codemirror_mode": {
    "name": "ipython",
    "version": 3
   },
   "file_extension": ".py",
   "mimetype": "text/x-python",
   "name": "python",
   "nbconvert_exporter": "python",
   "pygments_lexer": "ipython3",
   "version": "3.8.12"
  }
 },
 "nbformat": 4,
 "nbformat_minor": 5
}
