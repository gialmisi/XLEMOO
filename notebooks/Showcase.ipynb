{
 "cells": [
  {
   "cell_type": "markdown",
   "id": "33c96da4-77ed-4a08-b6e1-71df5293fc83",
   "metadata": {},
   "source": [
    "# How an XLEMOO method can be used as an interactive multiobjective optimization method\n",
    "\n",
    "In this example, we can see how an XLEMOO method can be used as an interactive multiobjective optimization method accepting reference points as preferences."
   ]
  },
  {
   "cell_type": "markdown",
   "id": "7c99c6c6-f7f3-432d-8d43-5de7c1cfb22d",
   "metadata": {},
   "source": [
    "## Import and helper functions\n",
    "\n",
    "Below, we define some imports and helper functions to be utilized later in printing the results of our LEMOO model."
   ]
  },
  {
   "cell_type": "code",
   "execution_count": null,
   "id": "6065d790-6ab1-480d-9922-bc74ad0110a8",
   "metadata": {
    "tags": []
   },
   "outputs": [],
   "source": [
    "import sys\n",
    "sys.path.append(\"../../XLEMOO\")\n",
    "\n",
    "from XLEMOO.LEMOO import EAParams, MLParams, LEMParams, LEMOO, PastGeneration\n",
    "from XLEMOO.fitness_indicators import asf_wrapper\n",
    "from XLEMOO.selection import SelectNBest\n",
    "from XLEMOO.plotting import show_rules\n",
    "from XLEMOO.ruleset_interpreter import extract_skoped_rules\n",
    "from desdeo_emo.recombination import SBX_xover, BP_mutation\n",
    "from desdeo_tools.scalarization.ASF import PointMethodASF\n",
    "from desdeo_problem.testproblems import vehicle_crashworthiness\n",
    "\n",
    "import matplotlib.pyplot as plt\n",
    "import numpy as np\n",
    "from imodels import SkopeRulesClassifier\n",
    "\n",
    "def extract_rule_set(lemoo, problem, n_variables):\n",
    "    rules, accuracies = extract_skoped_rules(lemoo.current_ml_model)\n",
    "    problem_lower_bounds = problem.get_variable_lower_bounds()\n",
    "    problem_upper_bounds = problem.get_variable_upper_bounds()\n",
    "\n",
    "    rules_for_vars = {f\"X_{i}\": {\">\": [problem_lower_bounds[i], -1], \"<=\": [problem_upper_bounds[i], -1]} for i in range(n_variables)}\n",
    "\n",
    "    for accuracy, rule in zip(accuracies, rules):\n",
    "        for key in rule:\n",
    "            var_name = key[0]\n",
    "            op = key[1]\n",
    "        \n",
    "            # check accuracy\n",
    "            if rules_for_vars[var_name][op][1] < accuracy: \n",
    "                # update accuracy\n",
    "                rules_for_vars[var_name][op][1] = accuracy\n",
    "                if op == \"<=\":\n",
    "                    # tighten rule, if necessary\n",
    "                    if float(rule[(var_name, op)]) <= rules_for_vars[var_name][op][0]:\n",
    "                        rules_for_vars[var_name][op][0] = float(rule[(var_name, op)])\n",
    "                elif op == \">\":\n",
    "                    # tighten rule, if necessary\n",
    "                    if float(rule[(var_name, op)]) > rules_for_vars[var_name][op][0]:\n",
    "                        rules_for_vars[var_name][op][0] = float(rule[(var_name, op)])\n",
    "                        \n",
    "    return rules_for_vars\n",
    "                        \n",
    "def complete_missing_rules(lemoo, rules_for_vars):\n",
    "    lower_bounds = np.min(lemoo._generation_history[-1].individuals, axis=0)\n",
    "    upper_bounds = np.max(lemoo._generation_history[-1].individuals, axis=0)\n",
    "\n",
    "    # if there are no upper or lower bound for some vars in the rules, use the min or max from the population\n",
    "    for var_i, var_name in enumerate(rules_for_vars):\n",
    "        for op in rules_for_vars[var_name]:\n",
    "            if op == \"<=\":\n",
    "                if rules_for_vars[var_name][op][1] == -1:\n",
    "                    # replace missing rule with bound from population\n",
    "                    rules_for_vars[var_name][op][0] = upper_bounds[var_i]\n",
    "            if op == \">\":\n",
    "                if rules_for_vars[var_name][op][1] == -1:\n",
    "                    rules_for_vars[var_name][op][0] = lower_bounds[var_i]\n",
    "\n",
    "    return rules_for_vars\n",
    "\n",
    "def print_rules(lemoo, rules_for_vars, tex=False):\n",
    "    lower_bounds = np.min(lemoo._generation_history[-1].individuals, axis=0)\n",
    "    upper_bounds = np.max(lemoo._generation_history[-1].individuals, axis=0)\n",
    "    \n",
    "    print(\"RULES:\")\n",
    "    print(\"Var\\tLower(R)\\t\\tUpper(R)\\t\\tLower(P)\\t\\tUpper(P)\")\n",
    "    for i, rule in enumerate(rules_for_vars):\n",
    "        if not tex:\n",
    "            msg = (f\"{rule}\\t{np.round(rules_for_vars[rule]['>'][0], 5)}\\t({np.round(rules_for_vars[rule]['>'][1], 3)})\\t\\t{np.round(rules_for_vars[rule]['<='][0], 5)} ({np.round(rules_for_vars[rule]['<='][1], 3)})\\t\\t\"\n",
    "                   f\"{np.round(lower_bounds[i], 5)}\\t\\t\\t{np.round(upper_bounds[i], 5)}\")\n",
    "        \n",
    "        else:\n",
    "            msg = (f\"${rule}$ & ${np.round(rules_for_vars[rule]['>'][0], 5)}$ & $({np.round(rules_for_vars[rule]['>'][1], 3)})$ & ${np.round(rules_for_vars[rule]['<='][0], 5)}$ & $({np.round(rules_for_vars[rule]['<='][1], 3)})$ &\"\n",
    "               f\"${np.round(lower_bounds[i], 5)}$ & ${np.round(upper_bounds[i], 5)}$ \\\\\\\\\")\n",
    "            \n",
    "        print(msg)\n",
    "        \n",
    "    return None"
   ]
  },
  {
   "cell_type": "markdown",
   "id": "edef70a1-e421-4b0a-99c2-e666af62c2f9",
   "metadata": {},
   "source": [
    "## Initialize the problem\n",
    "\n",
    "Next, we initialize a simple test problem with 3 objective functions and 5 variables. We use the vehicle crash worthiness problem."
   ]
  },
  {
   "cell_type": "code",
   "execution_count": null,
   "id": "d7993f78-b475-4249-9f9e-5608b82a2dff",
   "metadata": {
    "tags": []
   },
   "outputs": [],
   "source": [
    "n_objectives = 3\n",
    "n_variables = 5\n",
    "\n",
    "problem = vehicle_crashworthiness()"
   ]
  },
  {
   "attachments": {},
   "cell_type": "markdown",
   "id": "486f50ea-1b59-4a77-82f5-0bc8a0e7882e",
   "metadata": {},
   "source": [
    "## Initialize an XLEMOO method\n",
    "\n",
    "Now we are ready to define our LEMOO method. We start by defining the parameters of our model. In `lem_params` general parameters related to the LEMOO method are defined. In `ea_params`, parameters specific to the evolutionary phase of our LEMOO method are defined, and in `ml_params` parameters specific to the learning phase of the method are defined. For additional information about these parameters, see the API documentation of the XLEMOO framework."
   ]
  },
  {
   "cell_type": "code",
   "execution_count": null,
   "id": "a52f71a1-2f4a-428e-9ff5-215947a761ab",
   "metadata": {
    "tags": []
   },
   "outputs": [],
   "source": [
    "ideal = np.array([1600.0, 6.0, 0.038])\n",
    "nadir = np.array([1700.0, 12.0, 0.2])\n",
    "ref_point = np.array([1670.0, 7.61449, 0.085])  # the reference point\n",
    "\n",
    "# define the achievement scalarizing function as the fitness function\n",
    "ref_asf = asf_wrapper(PointMethodASF(ideal=ideal, nadir=nadir), {\"reference_point\": ref_point})\n",
    "fitness_fun = ref_asf\n",
    "\n",
    "lem_params = LEMParams(\n",
    "    use_darwin=True,\n",
    "    use_ml=True,\n",
    "    fitness_indicator=fitness_fun,\n",
    "    ml_probe = 1,\n",
    "    ml_threshold = None,\n",
    "    darwin_probe = None,\n",
    "    darwin_threshold = None,\n",
    "    total_iterations=10,\n",
    ")\n",
    "\n",
    "ea_params = EAParams(\n",
    "    population_size=50,\n",
    "    cross_over_op=SBX_xover(),\n",
    "    mutation_op=BP_mutation(problem.get_variable_lower_bounds(), problem.get_variable_upper_bounds()),\n",
    "    selection_op=SelectNBest(None, 50),  # keep population size constant\n",
    "    population_init_design=\"LHSDesign\",\n",
    "    iterations_per_cycle=19,\n",
    ")\n",
    "\n",
    "ml = SkopeRulesClassifier(precision_min=0.1, n_estimators=30, max_features=None, max_depth=None, bootstrap=True, bootstrap_features=True, random_state=1)\n",
    "ml_params = MLParams(\n",
    "    H_split=0.20,\n",
    "    L_split=0.20,\n",
    "    ml_model=ml,\n",
    "    instantiation_factor=10,\n",
    "    generation_lookback=0,\n",
    "    ancestral_recall=0,\n",
    "    unique_only=True,\n",
    "    iterations_per_cycle=1,\n",
    ")\n",
    "\n",
    "lemoo = LEMOO(problem, lem_params, ea_params, ml_params)"
   ]
  },
  {
   "cell_type": "markdown",
   "id": "78415f5d-1d24-44a9-935e-396da3dfe2ba",
   "metadata": {},
   "source": [
    "## Run the XLEMOO method\n",
    "\n",
    "We run our XLEMOO method for a set number of iterations in each mode. The printed output shows how many iterations were spent in each mode."
   ]
  },
  {
   "cell_type": "code",
   "execution_count": null,
   "id": "73c2c992-74e5-4802-b7c8-b3bb70de3be9",
   "metadata": {
    "tags": []
   },
   "outputs": [],
   "source": [
    "lemoo.run_iterations()"
   ]
  },
  {
   "cell_type": "markdown",
   "id": "47b76325-93eb-4da7-885b-3fbd9453b47e",
   "metadata": {},
   "source": [
    "## Extract and print the rules from skope-rules and complete missing rules\n",
    "\n",
    "Utilizing the trained XLEMOO model and the helper functions defined earlier, we can extract the rules in a human readable format."
   ]
  },
  {
   "cell_type": "code",
   "execution_count": null,
   "id": "543b80ec-c0ef-4052-bef1-64cb3da47310",
   "metadata": {
    "tags": []
   },
   "outputs": [],
   "source": [
    "rules_for_vars = extract_rule_set(lemoo=lemoo, problem=problem, n_variables=n_variables)\n",
    "rules_for_vars = complete_missing_rules(lemoo=lemoo, rules_for_vars=rules_for_vars)\n",
    "\n",
    "print(f\"Best solution x = {lemoo._generation_history[-1].individuals[0]}\")\n",
    "print(f\"Best objective vector z = {lemoo._generation_history[-1].objectives_fitnesses[0]}\")\n",
    "print_rules(lemoo=lemoo, rules_for_vars=rules_for_vars, tex=False)"
   ]
  },
  {
   "cell_type": "markdown",
   "id": "be9fd2d6-d31d-4368-8da9-b1bfc12ab2a9",
   "metadata": {},
   "source": [
    "## Modify variables and explore a new solution\n",
    "\n",
    "We may then modify the variables to explore new solutions."
   ]
  },
  {
   "cell_type": "code",
   "execution_count": null,
   "id": "c3448589-b8f2-4a4f-b52e-f4fa8c93c37d",
   "metadata": {
    "tags": []
   },
   "outputs": [],
   "source": [
    "x_new = np.atleast_2d([1.00184, 2.7135, 1.00000, 1.21741, 1.02602])\n",
    "z_new = problem.evaluate(x_new).objectives\n",
    "print(z_new)"
   ]
  },
  {
   "cell_type": "markdown",
   "id": "5911f4af-930c-4bd9-9a9d-e4653143ccac",
   "metadata": {},
   "source": [
    "Or we may specify a new reference point and run the XLEMOO method again."
   ]
  }
 ],
 "metadata": {
  "kernelspec": {
   "display_name": "xlemoo",
   "language": "python",
   "name": "xlemoo"
  },
  "language_info": {
   "codemirror_mode": {
    "name": "ipython",
    "version": 3
   },
   "file_extension": ".py",
   "mimetype": "text/x-python",
   "name": "python",
   "nbconvert_exporter": "python",
   "pygments_lexer": "ipython3",
   "version": "3.8.12"
  }
 },
 "nbformat": 4,
 "nbformat_minor": 5
}
