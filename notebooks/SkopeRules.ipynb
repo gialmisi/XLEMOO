{
 "cells": [
  {
   "cell_type": "code",
   "execution_count": 18,
   "id": "ba22235e-9c92-4521-8042-505ebdaf5123",
   "metadata": {},
   "outputs": [
    {
     "name": "stdout",
     "output_type": "stream",
     "text": [
      "[1. 1. 1. ... 1. 1. 1.]\n",
      "(0.8941488426196221, 0.8469139687752089, 3)\n",
      "X_14 <= 0.5 and X_18 <= 0.5 and X_4 <= 0.5\n",
      "(0.8935281837160751, 0.7739602169981917, 1)\n",
      "X_14 <= 0.5 and X_4 <= 0.5 and X_8 <= 0.5\n",
      "(0.8951048951048951, 0.7058823529411765, 1)\n",
      "X_14 <= 0.5 and X_18 <= 0.5 and X_8 <= 0.5\n",
      "(0.9122807017543859, 0.6558558558558558, 1)\n",
      "X_13 <= 0.5 and X_14 <= 0.5 and X_18 <= 0.5\n",
      "(0.9119903197807273, 0.6027051743795931, 3)\n",
      "X_14 <= 0.5 and X_15 <= 0.5 and X_4 <= 0.5\n",
      "(0.9561752988047809, 0.43795620437956206, 1)\n",
      "X_13 <= 0.5 and X_14 <= 0.5 and X_15 <= 0.5\n",
      "(0.8499008628484331, 0.29990248022123095, 3)\n",
      "X_14 <= 0.5 and X_15 > 0.5 and X_4 <= 0.5\n",
      "(0.8461538461538461, 0.1981981981981982, 1)\n",
      "X_13 > 0.5 and X_14 <= 0.5 and X_18 <= 0.5\n",
      "(0.8347107438016529, 0.1843065693430657, 1)\n",
      "X_14 <= 0.5 and X_15 > 0.5 and X_23 > 0.5\n",
      "(0.8275862068965517, 0.17518248175182483, 1)\n",
      "X_13 > 0.5 and X_14 <= 0.5 and X_15 <= 0.5\n",
      "(0.8282828282828283, 0.15073529411764705, 1)\n",
      "X_14 <= 0.5 and X_18 <= 0.5 and X_8 > 0.5\n",
      "(0.8588235294117647, 0.13200723327305605, 1)\n",
      "X_14 <= 0.5 and X_4 <= 0.5 and X_8 > 0.5\n",
      "(0.7469879518072289, 0.11313868613138686, 1)\n",
      "X_14 <= 0.5 and X_15 > 0.5 and X_23 <= 0.5\n",
      "(0.5869321835786742, 0.09256598675515396, 4)\n",
      "X_14 > 0.5 and X_35 <= 0.5 and X_4 <= 0.5\n",
      "(0.6290322580645161, 0.07027027027027027, 1)\n",
      "X_14 > 0.5 and X_36 <= 0.5 and X_4 <= 0.5\n",
      "(0.5401893634165995, 0.06902133023587334, 2)\n",
      "X_14 > 0.5 and X_37 > 9.165 and X_4 <= 0.5\n",
      "(0.6470588235294118, 0.041044776119402986, 1)\n",
      "X_14 > 0.5 and X_36 > 0.5 and X_4 <= 0.5\n",
      "(0.6470588235294118, 0.04044117647058824, 1)\n",
      "X_14 > 0.5 and X_36 > 0.5 and X_37 <= 15.5\n",
      "(0.6665588406547196, 0.03835295084442716, 3)\n",
      "X_14 <= 0.5 and X_18 > 0.5 and X_4 <= 0.5\n",
      "(0.6, 0.03783783783783784, 1)\n",
      "X_14 <= 0.5 and X_18 > 0.5 and X_9 <= 0.5\n",
      "(0.7916666666666666, 0.034926470588235295, 1)\n",
      "X_14 <= 0.5 and X_18 > 0.5 and X_37 > 5.595\n",
      "(0.6666666666666666, 0.030791740645755246, 2)\n",
      "X_14 > 0.5 and X_36 > 0.5 and X_37 <= 15.53\n",
      "(0.5683229813664596, 0.022702973825583082, 2)\n",
      "X_14 > 0.5 and X_37 <= 9.165 and X_4 <= 0.5\n",
      "(0.7075320512820512, 0.012581138463542014, 4)\n",
      "X_14 > 0.5 and X_35 > 0.5 and X_4 <= 0.5\n",
      "(0.75, 0.011029411764705883, 1)\n",
      "X_14 <= 0.5 and X_18 > 0.5 and X_37 <= 5.595\n"
     ]
    }
   ],
   "source": [
    "import sys\n",
    "sys.path.append(\"../../XLEMOO\")\n",
    "from imodels import get_clean_dataset, SkopeRulesClassifier\n",
    "from sklearn.model_selection import train_test_split\n",
    "import numpy as np\n",
    "\n",
    "# prepare data (in this a sample clinical dataset)\n",
    "X, y, feat_names = get_clean_dataset('csi_pecarn_pred')\n",
    "\n",
    "y_bool = np.array(y, dtype=bool)\n",
    "y_bool = ~y_bool\n",
    "\n",
    "y = np.array(y_bool, dtype=float)\n",
    "\n",
    "print(y)\n",
    "\n",
    "# fit the model\n",
    "model = SkopeRulesClassifier()  # initialize a model\n",
    "model.fit(X, y)   # fit model\n",
    "\n",
    "model.rules_[0].args\n",
    "\n",
    "for i in range(len(model.rules_)):\n",
    "    print(model.rules_[i].args)\n",
    "    print(model.rules_[i])"
   ]
  },
  {
   "cell_type": "code",
   "execution_count": 19,
   "id": "57e9f6b5-54a6-4eeb-b0b0-c9a6b30f80c5",
   "metadata": {},
   "outputs": [
    {
     "data": {
      "text/plain": [
       "0"
      ]
     },
     "execution_count": 19,
     "metadata": {},
     "output_type": "execute_result"
    }
   ],
   "source": [
    "model.predict(np.atleast_2d(X)).sum()"
   ]
  },
  {
   "cell_type": "code",
   "execution_count": null,
   "id": "b0315474-72a1-4938-9e8f-4a17d2f0798c",
   "metadata": {},
   "outputs": [],
   "source": []
  },
  {
   "cell_type": "code",
   "execution_count": null,
   "id": "d90ce991-9f3e-4bbb-8657-59a687b0c471",
   "metadata": {},
   "outputs": [],
   "source": []
  },
  {
   "cell_type": "code",
   "execution_count": null,
   "id": "680940de-d795-4ebe-a40a-82c45bd2ade3",
   "metadata": {},
   "outputs": [],
   "source": []
  }
 ],
 "metadata": {
  "kernelspec": {
   "display_name": "XLEMOO",
   "language": "python",
   "name": "xlemoo"
  },
  "language_info": {
   "codemirror_mode": {
    "name": "ipython",
    "version": 3
   },
   "file_extension": ".py",
   "mimetype": "text/x-python",
   "name": "python",
   "nbconvert_exporter": "python",
   "pygments_lexer": "ipython3",
   "version": "3.8.12"
  }
 },
 "nbformat": 4,
 "nbformat_minor": 5
}
