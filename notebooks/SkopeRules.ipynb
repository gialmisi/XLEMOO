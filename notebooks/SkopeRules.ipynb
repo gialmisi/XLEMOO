{
 "cells": [
  {
   "cell_type": "code",
   "execution_count": 36,
   "id": "ba22235e-9c92-4521-8042-505ebdaf5123",
   "metadata": {},
   "outputs": [
    {
     "name": "stdout",
     "output_type": "stream",
     "text": [
      "(0.55, 0.14473684210526316, 1)\n",
      "{('X_14', '>'): '0.5', ('X_31', '>'): '0.5', ('X_4', '<='): '0.5'}\n",
      "(1.0, 0.057971014492753624, 1)\n",
      "{('X_37', '>'): '13.485', ('X_4', '>'): '0.5'}\n",
      "(1.0, 0.05555555555555555, 1)\n",
      "{('X_11', '<='): '0.5', ('X_37', '<='): '15.825', ('X_4', '>'): '0.5'}\n",
      "(0.5, 0.04477611940298507, 1)\n",
      "{('X_14', '>'): '0.5', ('X_35', '>'): '0.5', ('X_36', '>'): '0.5'}\n",
      "(1.0, 0.042710966654628625, 3)\n",
      "{('X_14', '>'): '0.5', ('X_38', '<='): '0.5', ('X_4', '>'): '0.5'}\n",
      "(0.6666666666666667, 0.042293233082706765, 2)\n",
      "{('X_14', '>'): '0.5', ('X_4', '>'): '0.5'}\n",
      "(1.0, 0.038461538461538464, 1)\n",
      "{('X_11', '<='): '0.5', ('X_14', '>'): '0.5', ('X_4', '>'): '0.5'}\n",
      "(0.7083333333333333, 0.0339472733838931, 2)\n",
      "{('X_14', '<='): '0.5', ('X_15', '>'): '0.5', ('X_4', '>'): '0.5'}\n",
      "(0.6666666666666666, 0.027777777777777776, 1)\n",
      "{('X_11', '>'): '0.5', ('X_37', '<='): '15.825', ('X_4', '>'): '0.5'}\n",
      "(1.0, 0.026842747895379472, 3)\n",
      "{('X_0', '>'): '15.5', ('X_14', '<='): '0.5', ('X_4', '>'): '0.5'}\n",
      "(0.5, 0.013157894736842105, 1)\n",
      "{('X_0', '<='): '15.5', ('X_14', '<='): '0.5', ('X_4', '>'): '0.5'}\n"
     ]
    }
   ],
   "source": [
    "import sys\n",
    "sys.path.append(\"../../XLEMOO\")\n",
    "from imodels import SkopeRulesClassifier, get_clean_dataset\n",
    "from sklearn.model_selection import train_test_split\n",
    "import numpy as np\n",
    "\n",
    "# prepare data (in this a sample clinical dataset)\n",
    "X, y, feat_names = get_clean_dataset('csi_pecarn_pred')\n",
    "X_train, X_test, y_train, y_test = train_test_split(\n",
    "X, y, test_size=0.33, random_state=42)\n",
    "\n",
    "# fit the model\n",
    "model = SkopeRulesClassifier()  # initialize a model\n",
    "model.fit(X_train, y_train)   # fit model\n",
    "\n",
    "model.rules_[0].args\n",
    "\n",
    "for i in range(len(model.rules_)):\n",
    "    print(model.rules_[i].args)\n",
    "    print(model.rules_[i].agg_dict)"
   ]
  },
  {
   "cell_type": "code",
   "execution_count": 35,
   "id": "57e9f6b5-54a6-4eeb-b0b0-c9a6b30f80c5",
   "metadata": {},
   "outputs": [
    {
     "data": {
      "text/plain": [
       "array([0., 0., 0., ..., 0., 0., 0.])"
      ]
     },
     "execution_count": 35,
     "metadata": {},
     "output_type": "execute_result"
    }
   ],
   "source": []
  },
  {
   "cell_type": "code",
   "execution_count": null,
   "id": "b0315474-72a1-4938-9e8f-4a17d2f0798c",
   "metadata": {},
   "outputs": [],
   "source": []
  }
 ],
 "metadata": {
  "kernelspec": {
   "display_name": "XLEMOO",
   "language": "python",
   "name": "xlemoo"
  },
  "language_info": {
   "codemirror_mode": {
    "name": "ipython",
    "version": 3
   },
   "file_extension": ".py",
   "mimetype": "text/x-python",
   "name": "python",
   "nbconvert_exporter": "python",
   "pygments_lexer": "ipython3",
   "version": "3.8.12"
  }
 },
 "nbformat": 4,
 "nbformat_minor": 5
}
