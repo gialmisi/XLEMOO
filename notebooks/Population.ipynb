{
 "cells": [
  {
   "cell_type": "code",
   "execution_count": 50,
   "id": "749fe910-583a-4190-8dab-49345f66fb66",
   "metadata": {},
   "outputs": [],
   "source": [
    "import copy\n",
    "\n",
    "from desdeo_emo.population import SurrogatePopulation, create_new_individuals\n",
    "from desdeo_emo.recombination import SBX_xover, BP_mutation\n",
    "from desdeo_emo.selection import TournamentSelection\n",
    "from desdeo_problem.testproblems import test_problem_builder\n",
    "from desdeo_tools.utilities import hypervolume_indicator\n",
    "\n",
    "from imodels import C45TreeClassifier\n",
    "\n",
    "import numpy as np\n",
    "import matplotlib.pyplot as plt\n",
    "plt.rcParams['figure.figsize'] = [15, 10]\n",
    "from sklearn import tree"
   ]
  },
  {
   "cell_type": "markdown",
   "id": "77d5fed7-a705-4977-abc0-2a4a105edab2",
   "metadata": {},
   "source": [
    "# Init problem, population, and selectin operator"
   ]
  },
  {
   "cell_type": "code",
   "execution_count": 51,
   "id": "405856e8-7d93-4347-8669-0f389ebd4ee5",
   "metadata": {},
   "outputs": [],
   "source": [
    "n_problem_variables = 5\n",
    "n_problem_objectives = 3\n",
    "problem = test_problem_builder(\"DTLZ2\", n_problem_variables, n_problem_objectives)\n",
    "\n",
    "# population\n",
    "pop_size = 50\n",
    "initial_population = create_new_individuals(\"RandomDesign\", problem, pop_size=pop_size)\n",
    "xover_op = SBX_xover()\n",
    "mutation_op = BP_mutation(problem.get_variable_lower_bounds(), problem.get_variable_upper_bounds())\n",
    "\n",
    "population = SurrogatePopulation(problem, pop_size, initial_population, xover_op, mutation_op, None)\n",
    "\n",
    "# selection\n",
    "tournament_size = 2\n",
    "selection_op = TournamentSelection(None, tournament_size=tournament_size)"
   ]
  },
  {
   "cell_type": "markdown",
   "id": "5ca594d4-9353-4f1a-bc35-f990f5cd702b",
   "metadata": {},
   "source": [
    "# Define fitness operator"
   ]
  },
  {
   "cell_type": "code",
   "execution_count": 52,
   "id": "867d3e91-d4e4-4920-a120-d6a3c3b02486",
   "metadata": {},
   "outputs": [],
   "source": [
    "def naive_sum(population):\n",
    "    objective_values = population.problem.evaluate(population.individuals).objectives\n",
    "    return np.atleast_2d(np.sum(objective_values, axis=1)).T\n",
    "\n",
    "def dist_to_ideal(population, ideal=np.zeros(n_problem_objectives)):\n",
    "    objective_values = population.problem.evaluate(population.individuals).objectives\n",
    "    return np.atleast_2d(np.linalg.norm(objective_values - ideal, axis=1)).T\n",
    "\n",
    "def must_sum_to_one(population):\n",
    "    objective_values = population.problem.evaluate(population.individuals).objectives\n",
    "    sums = np.sum(objective_values**2, axis=1)\n",
    "    return np.atleast_2d(abs(sums - 1)).T\n",
    "\n",
    "def single_objective(population, obj_index = 0):\n",
    "    objective_values = population.problem.evaluate(population.individuals).objectives\n",
    "    return np.atleast_2d(objective_values[:, obj_index]).T"
   ]
  },
  {
   "cell_type": "markdown",
   "id": "d0b54dd2-8d7c-460c-b292-2bd9f1fe924d",
   "metadata": {},
   "source": [
    "# Define machine learning step"
   ]
  },
  {
   "cell_type": "code",
   "execution_count": 53,
   "id": "2e5880d7-d0a4-405e-ab61-b924e5d9b40b",
   "metadata": {},
   "outputs": [],
   "source": [
    "def machine_learning_mode(population, fitness_fun):\n",
    "    # sort the individuals according to the fitness function\n",
    "    fitness_values = fitness_fun(population)\n",
    "    sorted_indices = np.squeeze(np.argsort(fitness_values, axis=0))\n",
    "    \n",
    "    h_split = 0.2\n",
    "    l_split = 0.2\n",
    "    \n",
    "    h_split_ind = int(h_split*len(sorted_indices))\n",
    "    l_split_ind = int(l_split*len(sorted_indices))\n",
    "    \n",
    "    #print(f\"H split index: {h_split_ind}\")\n",
    "    #print(f\"L split index: {l_split_ind}\")\n",
    "    \n",
    "    # divide into H and L groups\n",
    "    h_group_indices = sorted_indices[0:h_split_ind]\n",
    "    l_group_indices = sorted_indices[-l_split_ind:]\n",
    "    \n",
    "    #print(f\"H group indices: {h_group_indices}\")\n",
    "    #print(f\"L group indices: {l_group_indices}\")\n",
    "    \n",
    "    h_sample = population.individuals[h_group_indices]\n",
    "    l_sample = population.individuals[l_group_indices]\n",
    "    \n",
    "    Y = np.hstack((np.ones(len(h_sample)), -np.ones(len(l_sample))))\n",
    "    X = np.vstack((h_sample, l_sample))\n",
    "    \n",
    "    # print(f\"Y: {Y}\")\n",
    "    # print(f\"X: {X}\")\n",
    "    # print(f\"len(X): {len(X)}\")\n",
    "    \n",
    "    # classifier = tree.DecisionTreeClassifier(criterion=\"gini\")\n",
    "    classifier = C45TreeClassifier()\n",
    "    print(\"Fitting tree...\")\n",
    "    classifier = classifier.fit(X, Y)\n",
    "    # tree.plot_tree(classifier, class_names=[\"H\", \"L\"])\n",
    "    # plt.show()\n",
    "    # tree.plot_tree(classifier, class_names=[\"H\", \"L\"], filled=True)\n",
    "    \n",
    "    # Generate new fit individuals\n",
    "    n_individuals_needed = len(sorted_indices) - len(h_group_indices)\n",
    "    n_found = 0\n",
    "    \n",
    "    lower_bounds = population.problem.get_variable_lower_bounds()\n",
    "    upper_bounds = population.problem.get_variable_upper_bounds()\n",
    "    \n",
    "    ranges = upper_bounds - lower_bounds\n",
    "    \n",
    "    new_individuals = []\n",
    "    \n",
    "    print(\"Finding new individuals...\")\n",
    "    while n_found < n_individuals_needed:\n",
    "        # randomly generate new individuals until n_individuals_needed new individuals with a class of 1 are found.\n",
    "        candidate = np.random.rand(len(ranges)) * ranges + lower_bounds\n",
    "        \n",
    "        if classifier.predict(np.atleast_2d(candidate))[0] == 1:\n",
    "            # Good candidate\n",
    "            new_individuals.append(candidate)\n",
    "            n_found += 1\n",
    "            \n",
    "    # add new fit candidates to existing H group\n",
    "    final_individuals = np.vstack((h_sample, np.array(new_individuals)))\n",
    "    \n",
    "    return final_individuals\n"
   ]
  },
  {
   "cell_type": "markdown",
   "id": "7ad3a208-8d1f-4001-9a11-7d431ed843b5",
   "metadata": {},
   "source": [
    "# Evolve"
   ]
  },
  {
   "cell_type": "code",
   "execution_count": 55,
   "id": "23372639-34c5-4265-88a8-294cfcf1ca3a",
   "metadata": {},
   "outputs": [
    {
     "name": "stdout",
     "output_type": "stream",
     "text": [
      "Darwin\n",
      "ML\n",
      "Fitting tree...\n",
      "Finding new individuals...\n",
      "Darwin\n",
      "ML\n",
      "Fitting tree...\n",
      "Finding new individuals...\n",
      "Darwin\n",
      "ML\n",
      "Fitting tree...\n",
      "Finding new individuals...\n",
      "Darwin\n",
      "ML\n",
      "Fitting tree...\n",
      "Finding new individuals...\n"
     ]
    }
   ],
   "source": [
    "n_generations = 10\n",
    "past_generations = []\n",
    "use_ml = True\n",
    "use_darwin = True\n",
    "\n",
    "past_generations.append(copy.copy(population))\n",
    "fitness_op = dist_to_ideal\n",
    "ml_op = dist_to_ideal\n",
    "\n",
    "n_total_iterations = 5\n",
    "\n",
    "\n",
    "for _ in range(n_total_iterations-1):\n",
    "    if use_darwin:\n",
    "        print(\"Darwin\")\n",
    "        # darwinian mode\n",
    "        for _ in range(n_generations):\n",
    "            # select individuals to mate\n",
    "            fitnesses = fitness_op(population)\n",
    "            to_mate = selection_op.do(population, fitnesses)\n",
    "\n",
    "            # mate\n",
    "            new_pop = population.mate(to_mate)\n",
    "\n",
    "            # update pop\n",
    "            population.delete(np.arange(len(population.individuals)))\n",
    "            population.add(new_pop);\n",
    "\n",
    "            past_generations.append(copy.copy(population))\n",
    "\n",
    "    if use_ml:\n",
    "        print(\"ML\")\n",
    "        # ML mode\n",
    "        ml_individuals = machine_learning_mode(population, ml_op)\n",
    "        population.delete(np.arange(len(population.individuals)))\n",
    "        population.add(ml_individuals)\n",
    "\n",
    "        past_generations.append(copy.copy(population))\n",
    "\n",
    "if use_darwin:\n",
    "    # darwinian mode\n",
    "    for _ in range(n_generations):\n",
    "        # select individuals to mate\n",
    "        fitnesses = fitness_op(population)\n",
    "        to_mate = selection_op.do(population, fitnesses)\n",
    "\n",
    "        # mate\n",
    "        new_pop = population.mate(to_mate)\n",
    "        # update pop\n",
    "        population.delete(np.arange(len(population.individuals)))\n",
    "        population.add(new_pop);\n",
    "\n",
    "        past_generations.append(copy.copy(population))"
   ]
  },
  {
   "cell_type": "code",
   "execution_count": 56,
   "id": "275b466b-52c2-4748-8c34-6c447eb8a1a3",
   "metadata": {},
   "outputs": [],
   "source": [
    "fitness_history = [ml_op(pop) for pop in past_generations]"
   ]
  },
  {
   "cell_type": "code",
   "execution_count": 57,
   "id": "570aedd9-a387-402a-812c-6731ce2c9f54",
   "metadata": {},
   "outputs": [],
   "source": [
    "fitness_means = np.mean(fitness_history, axis=1)"
   ]
  },
  {
   "cell_type": "code",
   "execution_count": 58,
   "id": "be6640e3-c1f2-4a5d-8209-a2231942df54",
   "metadata": {},
   "outputs": [
    {
     "data": {
      "text/plain": [
       "[<matplotlib.lines.Line2D at 0x7f238f9242e0>]"
      ]
     },
     "execution_count": 58,
     "metadata": {},
     "output_type": "execute_result"
    },
    {
     "data": {
      "image/png": "[encoded data removed]",
      "text/plain": [
       "<Figure size 1080x720 with 1 Axes>"
      ]
     },
     "metadata": {
      "needs_background": "light"
     },
     "output_type": "display_data"
    }
   ],
   "source": [
    "plt.plot(np.arange(len(fitness_means)), fitness_means)"
   ]
  },
  {
   "cell_type": "code",
   "execution_count": null,
   "id": "9b19aa91-2146-4c20-aa2d-27ea943c2b27",
   "metadata": {},
   "outputs": [],
   "source": []
  }
 ],
 "metadata": {
  "kernelspec": {
   "display_name": "XLEMOO",
   "language": "python",
   "name": "xlemoo"
  },
  "language_info": {
   "codemirror_mode": {
    "name": "ipython",
    "version": 3
   },
   "file_extension": ".py",
   "mimetype": "text/x-python",
   "name": "python",
   "nbconvert_exporter": "python",
   "pygments_lexer": "ipython3",
   "version": "3.8.12"
  }
 },
 "nbformat": 4,
 "nbformat_minor": 5
}
