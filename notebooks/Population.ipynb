{
 "cells": [
  {
   "cell_type": "code",
   "execution_count": 1,
   "id": "749fe910-583a-4190-8dab-49345f66fb66",
   "metadata": {},
   "outputs": [],
   "source": [
    "from desdeo_emo.population import SurrogatePopulation\n",
    "from desdeo_emo.recombination import SinglePoint_Xover\n",
    "from desdeo_problem.testproblems import test_problem_builder"
   ]
  },
  {
   "cell_type": "code",
   "execution_count": 3,
   "id": "405856e8-7d93-4347-8669-0f389ebd4ee5",
   "metadata": {},
   "outputs": [],
   "source": [
    "problem = test_problem_builder(\"DTLZ2\", 5, 3)\n",
    "\n"
   ]
  },
  {
   "cell_type": "code",
   "execution_count": null,
   "id": "23372639-34c5-4265-88a8-294cfcf1ca3a",
   "metadata": {},
   "outputs": [],
   "source": []
  }
 ],
 "metadata": {
  "kernelspec": {
   "display_name": "XLEMOO",
   "language": "python",
   "name": "xlemoo"
  },
  "language_info": {
   "codemirror_mode": {
    "name": "ipython",
    "version": 3
   },
   "file_extension": ".py",
   "mimetype": "text/x-python",
   "name": "python",
   "nbconvert_exporter": "python",
   "pygments_lexer": "ipython3",
   "version": "3.8.12"
  }
 },
 "nbformat": 4,
 "nbformat_minor": 5
}
