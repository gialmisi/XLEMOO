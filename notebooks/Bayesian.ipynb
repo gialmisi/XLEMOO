{
 "cells": [
  {
   "cell_type": "code",
   "execution_count": 62,
   "id": "40484a3e-6202-4a65-956b-c544e4225289",
   "metadata": {},
   "outputs": [],
   "source": [
    "import sys\n",
    "sys.path.append(\"../../XLEMOO\")\n",
    "from imodels import SkopeRulesClassifier\n",
    "from imodels.util.convert import tree_to_rules\n",
    "from sklearn.datasets import load_breast_cancer\n",
    "import numpy as np\n",
    "import pandas as pd"
   ]
  },
  {
   "cell_type": "code",
   "execution_count": 65,
   "id": "4e272fcc-1d4b-46e2-bd43-2805d8661c0b",
   "metadata": {},
   "outputs": [
    {
     "data": {
      "text/html": [
       "<style>#sk-container-id-13 {color: black;background-color: white;}#sk-container-id-13 pre{padding: 0;}#sk-container-id-13 div.sk-toggleable {background-color: white;}#sk-container-id-13 label.sk-toggleable__label {cursor: pointer;display: block;width: 100%;margin-bottom: 0;padding: 0.3em;box-sizing: border-box;text-align: center;}#sk-container-id-13 label.sk-toggleable__label-arrow:before {content: \"▸\";float: left;margin-right: 0.25em;color: #696969;}#sk-container-id-13 label.sk-toggleable__label-arrow:hover:before {color: black;}#sk-container-id-13 div.sk-estimator:hover label.sk-toggleable__label-arrow:before {color: black;}#sk-container-id-13 div.sk-toggleable__content {max-height: 0;max-width: 0;overflow: hidden;text-align: left;background-color: #f0f8ff;}#sk-container-id-13 div.sk-toggleable__content pre {margin: 0.2em;color: black;border-radius: 0.25em;background-color: #f0f8ff;}#sk-container-id-13 input.sk-toggleable__control:checked~div.sk-toggleable__content {max-height: 200px;max-width: 100%;overflow: auto;}#sk-container-id-13 input.sk-toggleable__control:checked~label.sk-toggleable__label-arrow:before {content: \"▾\";}#sk-container-id-13 div.sk-estimator input.sk-toggleable__control:checked~label.sk-toggleable__label {background-color: #d4ebff;}#sk-container-id-13 div.sk-label input.sk-toggleable__control:checked~label.sk-toggleable__label {background-color: #d4ebff;}#sk-container-id-13 input.sk-hidden--visually {border: 0;clip: rect(1px 1px 1px 1px);clip: rect(1px, 1px, 1px, 1px);height: 1px;margin: -1px;overflow: hidden;padding: 0;position: absolute;width: 1px;}#sk-container-id-13 div.sk-estimator {font-family: monospace;background-color: #f0f8ff;border: 1px dotted black;border-radius: 0.25em;box-sizing: border-box;margin-bottom: 0.5em;}#sk-container-id-13 div.sk-estimator:hover {background-color: #d4ebff;}#sk-container-id-13 div.sk-parallel-item::after {content: \"\";width: 100%;border-bottom: 1px solid gray;flex-grow: 1;}#sk-container-id-13 div.sk-label:hover label.sk-toggleable__label {background-color: #d4ebff;}#sk-container-id-13 div.sk-serial::before {content: \"\";position: absolute;border-left: 1px solid gray;box-sizing: border-box;top: 0;bottom: 0;left: 50%;z-index: 0;}#sk-container-id-13 div.sk-serial {display: flex;flex-direction: column;align-items: center;background-color: white;padding-right: 0.2em;padding-left: 0.2em;position: relative;}#sk-container-id-13 div.sk-item {position: relative;z-index: 1;}#sk-container-id-13 div.sk-parallel {display: flex;align-items: stretch;justify-content: center;background-color: white;position: relative;}#sk-container-id-13 div.sk-item::before, #sk-container-id-13 div.sk-parallel-item::before {content: \"\";position: absolute;border-left: 1px solid gray;box-sizing: border-box;top: 0;bottom: 0;left: 50%;z-index: -1;}#sk-container-id-13 div.sk-parallel-item {display: flex;flex-direction: column;z-index: 1;position: relative;background-color: white;}#sk-container-id-13 div.sk-parallel-item:first-child::after {align-self: flex-end;width: 50%;}#sk-container-id-13 div.sk-parallel-item:last-child::after {align-self: flex-start;width: 50%;}#sk-container-id-13 div.sk-parallel-item:only-child::after {width: 0;}#sk-container-id-13 div.sk-dashed-wrapped {border: 1px dashed gray;margin: 0 0.4em 0.5em 0.4em;box-sizing: border-box;padding-bottom: 0.4em;background-color: white;}#sk-container-id-13 div.sk-label label {font-family: monospace;font-weight: bold;display: inline-block;line-height: 1.2em;}#sk-container-id-13 div.sk-label-container {text-align: center;}#sk-container-id-13 div.sk-container {/* jupyter's `normalize.less` sets `[hidden] { display: none; }` but bootstrap.min.css set `[hidden] { display: none !important; }` so we also need the `!important` here to be able to override the default hidden behavior on the sphinx rendered scikit-learn.org. See: https://github.com/scikit-learn/scikit-learn/issues/21755 */display: inline-block !important;position: relative;}#sk-container-id-13 div.sk-text-repr-fallback {display: none;}</style><div id=\"sk-container-id-13\" class=\"sk-top-container\"><div class=\"sk-text-repr-fallback\"><pre>SkopeRulesClassifier()</pre><b>In a Jupyter environment, please rerun this cell to show the HTML representation or trust the notebook. <br />On GitHub, the HTML representation is unable to render, please try loading this page with nbviewer.org.</b></div><div class=\"sk-container\" hidden><div class=\"sk-item\"><div class=\"sk-estimator sk-toggleable\"><input class=\"sk-toggleable__control sk-hidden--visually\" id=\"sk-estimator-id-13\" type=\"checkbox\" checked><label for=\"sk-estimator-id-13\" class=\"sk-toggleable__label sk-toggleable__label-arrow\">SkopeRulesClassifier</label><div class=\"sk-toggleable__content\"><pre>SkopeRulesClassifier()</pre></div></div></div></div></div>"
      ],
      "text/plain": [
       "SkopeRulesClassifier()"
      ]
     },
     "execution_count": 65,
     "metadata": {},
     "output_type": "execute_result"
    }
   ],
   "source": [
    "cancer = load_breast_cancer()\n",
    "x_train, y_train, feat_names = cancer.data, cancer.target, cancer.feature_names\n",
    "\n",
    "classifier = SkopeRulesClassifier()\n",
    "\n",
    "classifier.fit(x_train, y_train, feature_names=feat_names)\n",
    "\n",
    "# discretizer = BasicDiscretizer(n_bins=10)\n",
    "# discretizer.fit(pd.DataFrame(x_train))"
   ]
  },
  {
   "cell_type": "code",
   "execution_count": 67,
   "id": "1711c334-b515-4ba7-8a72-a72f05041ddb",
   "metadata": {},
   "outputs": [
    {
     "data": {
      "text/plain": [
       "[worst concave points <= 0.14555 and worst perimeter <= 114.4 and worst radius <= 17.48,\n",
       " area error <= 32.985 and worst concave points <= 0.14235 and worst radius <= 16.795,\n",
       " worst area <= 884.54999 and worst concave points <= 0.13235,\n",
       " worst concave points <= 0.1603 and worst perimeter <= 101.95,\n",
       " area error <= 42.95 and worst concave points <= 0.1456 and worst perimeter <= 115.35,\n",
       " area error <= 38.605 and worst concave points <= 0.1358 and worst radius <= 16.795,\n",
       " area error <= 35.29 and worst area <= 957.45001 and worst concave points <= 0.14235,\n",
       " worst area <= 927.10001 and worst concave points <= 0.111,\n",
       " worst area <= 884.75 and worst concave points <= 0.111,\n",
       " worst area <= 957.45001 and worst concave points <= 0.1436 and worst perimeter <= 102.05,\n",
       " worst area <= 884.75 and worst concave points <= 0.1603 and worst concave points > 0.111,\n",
       " worst area <= 957.45001 and worst concave points <= 0.1436 and worst perimeter > 102.05,\n",
       " area error > 35.29 and worst area <= 957.45001 and worst concave points <= 0.14235,\n",
       " worst concave points <= 0.1603 and worst perimeter <= 114.45 and worst perimeter > 101.95,\n",
       " worst area <= 927.10001 and worst concave points <= 0.1436 and worst concave points > 0.111,\n",
       " area error > 32.985 and worst concave points <= 0.14235 and worst radius <= 16.795,\n",
       " worst area <= 884.54999 and worst concave points <= 0.1603 and worst concave points > 0.13235,\n",
       " area error > 42.95 and worst concave points <= 0.1456 and worst perimeter <= 115.35,\n",
       " mean compactness <= 0.07167 and mean concavity <= 0.06406 and worst area > 884.75,\n",
       " area error > 38.605 and worst concave points <= 0.1358 and worst radius <= 16.795,\n",
       " worst concave points > 0.1358 and worst radius <= 16.795 and worst texture <= 26.285,\n",
       " mean texture <= 14.99 and worst concavity > 0.21805 and worst radius > 16.795,\n",
       " mean compactness <= 0.11371 and mean texture <= 15.82 and worst area > 884.54999,\n",
       " mean smoothness <= 0.1083 and worst area <= 729.54999 and worst concave points > 0.14235,\n",
       " worst concave points <= 0.14555 and worst perimeter <= 114.4 and worst radius > 17.48,\n",
       " worst concavity <= 0.21805 and worst radius > 16.795 and worst texture <= 28.46]"
      ]
     },
     "execution_count": 67,
     "metadata": {},
     "output_type": "execute_result"
    }
   ],
   "source": [
    "classifier.rules_"
   ]
  },
  {
   "cell_type": "code",
   "execution_count": 95,
   "id": "5d4f9aa9-1613-44f2-897f-44880b78b18d",
   "metadata": {},
   "outputs": [
    {
     "data": {
      "text/plain": [
       "['__class__',\n",
       " '__delattr__',\n",
       " '__dict__',\n",
       " '__dir__',\n",
       " '__doc__',\n",
       " '__eq__',\n",
       " '__format__',\n",
       " '__ge__',\n",
       " '__getattribute__',\n",
       " '__gt__',\n",
       " '__hash__',\n",
       " '__init__',\n",
       " '__init_subclass__',\n",
       " '__iter__',\n",
       " '__le__',\n",
       " '__lt__',\n",
       " '__module__',\n",
       " '__ne__',\n",
       " '__new__',\n",
       " '__reduce__',\n",
       " '__reduce_ex__',\n",
       " '__repr__',\n",
       " '__setattr__',\n",
       " '__sizeof__',\n",
       " '__slotnames__',\n",
       " '__str__',\n",
       " '__subclasshook__',\n",
       " '__weakref__',\n",
       " 'agg_dict',\n",
       " 'args',\n",
       " 'factorize',\n",
       " 'rule',\n",
       " 'support',\n",
       " 'terms']"
      ]
     },
     "execution_count": 95,
     "metadata": {},
     "output_type": "execute_result"
    }
   ],
   "source": [
    "dir(classifier.rules_without_feature_names_[0])"
   ]
  },
  {
   "cell_type": "code",
   "execution_count": 103,
   "id": "372a19ef-a3bd-4fea-b8a3-1d7f0606494d",
   "metadata": {},
   "outputs": [
    {
     "data": {
      "text/plain": [
       "[['X_20', '<=', '17.48'], ['X_22', '<=', '114.4'], ['X_27', '<=', '0.14555']]"
      ]
     },
     "execution_count": 103,
     "metadata": {},
     "output_type": "execute_result"
    }
   ],
   "source": [
    "classifier.rules_without_feature_names_[0].terms"
   ]
  },
  {
   "cell_type": "code",
   "execution_count": 98,
   "id": "a0a76d1d-bd7f-46e5-80ca-568ac76abe61",
   "metadata": {},
   "outputs": [
    {
     "data": {
      "text/plain": [
       "X_20 <= 17.48 and X_22 <= 114.4 and X_27 <= 0.14555"
      ]
     },
     "execution_count": 98,
     "metadata": {},
     "output_type": "execute_result"
    }
   ],
   "source": [
    "classifier.rules_without_feature_names_[0]"
   ]
  },
  {
   "cell_type": "code",
   "execution_count": 105,
   "id": "99d77934-96d8-4d18-a422-7fad53192875",
   "metadata": {},
   "outputs": [
    {
     "data": {
      "text/plain": [
       "[('X_20 <= 17.48 and X_22 <= 114.4 and X_27 <= 0.14555',\n",
       "  (0.9375, 0.9523809523809523, 1)),\n",
       " ('X_13 <= 32.985 and X_20 <= 16.795 and X_27 <= 0.14235',\n",
       "  (0.9710144927536232, 0.9178082191780822, 1)),\n",
       " ('X_23 <= 884.54999 and X_27 <= 0.13235',\n",
       "  (0.9848484848484849, 0.9027777777777778, 1)),\n",
       " ('X_22 <= 101.95 and X_27 <= 0.1603',\n",
       "  (0.967741935483871, 0.9090909090909091, 1)),\n",
       " ('X_13 <= 42.95 and X_22 <= 115.35 and X_27 <= 0.1456',\n",
       "  (0.9230769230769231, 0.9375, 1)),\n",
       " ('X_13 <= 38.605 and X_20 <= 16.795 and X_27 <= 0.1358',\n",
       "  (0.9830508474576272, 0.8656716417910447, 1)),\n",
       " ('X_13 <= 35.29 and X_23 <= 957.45001 and X_27 <= 0.14235',\n",
       "  (0.9714285714285714, 0.8717948717948718, 1)),\n",
       " ('X_23 <= 927.10001 and X_27 <= 0.111', (0.96875, 0.8732394366197183, 1)),\n",
       " ('X_23 <= 884.75 and X_27 <= 0.111', (1.0, 0.8059701492537313, 1)),\n",
       " ('X_22 <= 102.05 and X_23 <= 957.45001 and X_27 <= 0.1436',\n",
       "  (0.9821428571428571, 0.8088235294117647, 1)),\n",
       " ('X_23 <= 884.75 and X_27 <= 0.1603 and X_27 > 0.111',\n",
       "  (0.75, 0.13432835820895522, 1)),\n",
       " ('X_22 > 102.05 and X_23 <= 957.45001 and X_27 <= 0.1436',\n",
       "  (0.8888888888888888, 0.11764705882352941, 1)),\n",
       " ('X_13 > 35.29 and X_23 <= 957.45001 and X_27 <= 0.14235',\n",
       "  (0.875, 0.08974358974358974, 1)),\n",
       " ('X_22 <= 114.45 and X_22 > 101.95 and X_27 <= 0.1603',\n",
       "  (0.5454545454545454, 0.09090909090909091, 1)),\n",
       " ('X_23 <= 927.10001 and X_27 <= 0.1436 and X_27 > 0.111',\n",
       "  (0.7142857142857143, 0.07042253521126761, 1)),\n",
       " ('X_13 > 32.985 and X_20 <= 16.795 and X_27 <= 0.14235',\n",
       "  (0.8333333333333334, 0.0684931506849315, 1)),\n",
       " ('X_23 <= 884.54999 and X_27 <= 0.1603 and X_27 > 0.13235',\n",
       "  (0.5714285714285714, 0.05555555555555555, 1)),\n",
       " ('X_13 > 42.95 and X_22 <= 115.35 and X_27 <= 0.1456', (0.75, 0.046875, 1)),\n",
       " ('X_23 > 884.75 and X_5 <= 0.07167 and X_6 <= 0.06406',\n",
       "  (1.0, 0.04477611940298507, 1)),\n",
       " ('X_13 > 38.605 and X_20 <= 16.795 and X_27 <= 0.1358',\n",
       "  (0.75, 0.04477611940298507, 1)),\n",
       " ('X_20 <= 16.795 and X_21 <= 26.285 and X_27 > 0.1358',\n",
       "  (0.5, 0.04477611940298507, 1)),\n",
       " ('X_1 <= 14.99 and X_20 > 16.795 and X_26 > 0.21805',\n",
       "  (0.6666666666666666, 0.029850746268656716, 1)),\n",
       " ('X_1 <= 15.82 and X_23 > 884.54999 and X_5 <= 0.11371',\n",
       "  (1.0, 0.027777777777777776, 1)),\n",
       " ('X_23 <= 729.54999 and X_27 > 0.14235 and X_4 <= 0.1083',\n",
       "  (1.0, 0.02564102564102564, 1)),\n",
       " ('X_20 > 17.48 and X_22 <= 114.4 and X_27 <= 0.14555',\n",
       "  (0.5, 0.015873015873015872, 1)),\n",
       " ('X_20 > 16.795 and X_21 <= 28.46 and X_26 <= 0.21805',\n",
       "  (0.5, 0.014925373134328358, 1))]"
      ]
     },
     "execution_count": 105,
     "metadata": {},
     "output_type": "execute_result"
    }
   ],
   "source": [
    "[(r, w) for (r, w) in classifier.rules_without_feature_names_]"
   ]
  },
  {
   "cell_type": "code",
   "execution_count": null,
   "id": "ad43fc5e-a13e-4f74-84fc-1b18df8b7a39",
   "metadata": {},
   "outputs": [],
   "source": []
  }
 ],
 "metadata": {
  "kernelspec": {
   "display_name": "xlemoo",
   "language": "python",
   "name": "xlemoo"
  },
  "language_info": {
   "codemirror_mode": {
    "name": "ipython",
    "version": 3
   },
   "file_extension": ".py",
   "mimetype": "text/x-python",
   "name": "python",
   "nbconvert_exporter": "python",
   "pygments_lexer": "ipython3",
   "version": "3.8.12"
  }
 },
 "nbformat": 4,
 "nbformat_minor": 5
}
