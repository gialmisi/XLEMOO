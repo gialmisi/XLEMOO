{
 "cells": [
  {
   "cell_type": "code",
   "execution_count": 1,
   "id": "b65709c6-67b5-4c37-bf6a-2d539eb83c78",
   "metadata": {},
   "outputs": [],
   "source": [
    "import sys\n",
    "sys.path.append(\"../../XLEMOO\")"
   ]
  },
  {
   "cell_type": "code",
   "execution_count": 8,
   "id": "6065d790-6ab1-480d-9922-bc74ad0110a8",
   "metadata": {},
   "outputs": [],
   "source": [
    "from XLEMOO.LEMOO import EAParams, MLParams, LEMParams, LEMOO, PastGeneration\n",
    "from XLEMOO.fitness_indicators import asf_wrapper, hypervolume_contribution, inside_ranges\n",
    "from XLEMOO.tree_interpreter import instantiate_tree_rules, find_all_paths\n",
    "from XLEMOO.problems import river_pollution_problem\n",
    "from XLEMOO.plotting import plot_best_fitnesses, plot_mean_fitnesses, plot_std_fitnesses, plot_hypervolume, show_rules\n",
    "from XLEMOO.selection import SelectNBest\n",
    "from desdeo_emo.recombination import SBX_xover, BP_mutation\n",
    "from desdeo_emo.selection import TournamentSelection\n",
    "from desdeo_problem.testproblems import test_problem_builder\n",
    "from desdeo_tools.scalarization.ASF import SimpleASF, GuessASF, StomASF, PointMethodASF\n",
    "from desdeo_tools.utilities import hypervolume_indicator, epsilon_indicator_ndims, fast_non_dominated_sort_indices\n",
    "from typing import List\n",
    "\n",
    "from desdeo_problem.testproblems import multiple_clutch_brakes\n",
    "\n",
    "from sklearn.tree import DecisionTreeClassifier\n",
    "import sklearn.tree as tree\n",
    "import matplotlib.pyplot as plt\n",
    "import numpy as np\n",
    "from imodels import C45TreeClassifier, SlipperClassifier, BoostedRulesClassifier, SkopeRulesClassifier\n",
    "import imodels"
   ]
  },
  {
   "cell_type": "markdown",
   "id": "edef70a1-e421-4b0a-99c2-e666af62c2f9",
   "metadata": {},
   "source": [
    "## Define problem"
   ]
  },
  {
   "cell_type": "code",
   "execution_count": 9,
   "id": "d7993f78-b475-4249-9f9e-5608b82a2dff",
   "metadata": {},
   "outputs": [],
   "source": [
    "n_objectives = 5\n",
    "n_variables = 5\n",
    "\n",
    "problem = multiple_clutch_brakes()"
   ]
  },
  {
   "cell_type": "markdown",
   "id": "486f50ea-1b59-4a77-82f5-0bc8a0e7882e",
   "metadata": {},
   "source": [
    "## Setting model parameters"
   ]
  },
  {
   "cell_type": "code",
   "execution_count": 45,
   "id": "a52f71a1-2f4a-428e-9ff5-215947a761ab",
   "metadata": {},
   "outputs": [],
   "source": [
    "\"\"\"\n",
    "nadir = np.ones(n_objectives)\n",
    "ideal = np.zeros(n_objectives)\n",
    "# ideal = np.array([-6.34, -3.44, -7.5, 0, 0])\n",
    "# nadir = np.array([-4.75, -2.85, -0.32, 9.70, 0.35])\n",
    "#ref_point = np.array([-5.0, -3.1, -4.4, 4.2, 0.15])\n",
    "#guess_asf = asf_wrapper(GuessASF(nadir), {\"reference_point\": ref_point})\n",
    "\n",
    "# fitness_fun = lambda x: guess_asf(x) + stom_asf(x) + np.random.uniform(0, 1)\n",
    "\n",
    "# lower_limits = np.array([-5.5, -3.2, -5.4, 3.2, 0.05])\n",
    "# upper_limits = np.array([-3.9, -2.9, -0.9, 7.2, 0.20])\n",
    "\n",
    "lower_limits = np.array([0.4, 0.4, 0.6])\n",
    "upper_limits = np.array([0.5, 0.5, 0.75])\n",
    "ref_point = (lower_limits + upper_limits) / 2\n",
    "\n",
    "\n",
    "stom_asf = asf_wrapper(StomASF(ideal=ideal), {\"reference_point\": ideal})\n",
    "guess_asf = asf_wrapper(GuessASF(nadir), {\"reference_point\": ref_point})\n",
    "ref_asf = asf_wrapper(PointMethodASF(ideal=ideal, nadir=nadir), {\"reference_point\": ref_point})\n",
    "hyper_fun = hypervolume_contribution(nadir)\n",
    "inside_ranges_fun = inside_ranges(lower_limits, upper_limits, sim_cost=0, asf_fun=ref_asf)\n",
    "\"\"\"\n",
    "\n",
    "nadir = np.array([40.0, 5.0, 14.0, 30.0])\n",
    "ideal = np.array([15.0, 3.0, 10.0, 0.0])\n",
    "\n",
    "ref_point = np.array([20.0, 3.5, 11.0, 0.1])\n",
    "\n",
    "ref_asf = asf_wrapper(PointMethodASF(ideal=ideal, nadir=nadir), {\"reference_point\": ref_point})\n",
    "\n",
    "fitness_fun = lambda x, _: x[:, 3].T\n",
    "\n",
    "\n",
    "lem_params = LEMParams(\n",
    "    use_darwin=True,\n",
    "    use_ml=False,\n",
    "    fitness_indicator=fitness_fun,\n",
    "    ml_probe = 1,\n",
    "    ml_threshold = 0.99999,\n",
    "    darwin_probe = 5,\n",
    "    darwin_threshold = 0.99999,\n",
    "    total_iterations=200\n",
    ")\n",
    "\n",
    "ea_params = EAParams(\n",
    "    population_size=200,\n",
    "    cross_over_op=SBX_xover(),\n",
    "    mutation_op=BP_mutation(problem.get_variable_lower_bounds(), problem.get_variable_upper_bounds()),\n",
    "    # selection_op=TournamentSelection(None, tournament_size=3),\n",
    "    selection_op=SelectNBest(None, 200),\n",
    "    population_init_design=\"LHSDesign\",\n",
    "    iterations_per_cycle=10,\n",
    ")\n",
    "\n",
    "# ml = DecisionTreeClassifier(random_state=0)\n",
    "# ml = SlipperClassifier()\n",
    "# ml = BoostedRulesClassifier()\n",
    "ml = SkopeRulesClassifier(precision_min=0.1, n_estimators=30, max_features=None, max_depth=None, bootstrap=True, bootstrap_features=True)\n",
    "ml_params = MLParams(\n",
    "    H_split=0.10,\n",
    "    L_split=0.10,\n",
    "    ml_model=ml,\n",
    "    instantation_factor=10,\n",
    "    generation_lookback=0,\n",
    "    ancestral_recall=0,\n",
    "    unique_only=True,\n",
    "    iterations_per_cycle=1,\n",
    ")"
   ]
  },
  {
   "cell_type": "markdown",
   "id": "78415f5d-1d24-44a9-935e-396da3dfe2ba",
   "metadata": {},
   "source": [
    "## Setup LEMOO model"
   ]
  },
  {
   "cell_type": "code",
   "execution_count": 46,
   "id": "ec9c7860-82e4-4ca8-9d0b-26b52e8f482e",
   "metadata": {},
   "outputs": [],
   "source": [
    "lemoo = LEMOO(problem, lem_params, ea_params, ml_params)"
   ]
  },
  {
   "cell_type": "code",
   "execution_count": 47,
   "id": "73c2c992-74e5-4802-b7c8-b3bb70de3be9",
   "metadata": {
    "tags": []
   },
   "outputs": [
    {
     "name": "stdout",
     "output_type": "stream",
     "text": [
      ".\n",
      ".\n",
      ".\n",
      ".\n",
      ".\n",
      ".\n",
      ".\n",
      ".\n",
      ".\n",
      ".\n",
      ".\n",
      ".\n",
      ".\n",
      ".\n",
      ".\n",
      ".\n",
      ".\n",
      ".\n",
      ".\n",
      ".\n",
      ".\n",
      ".\n",
      ".\n",
      ".\n",
      ".\n",
      ".\n",
      ".\n",
      ".\n",
      ".\n",
      ".\n",
      ".\n",
      ".\n",
      ".\n",
      ".\n",
      ".\n",
      ".\n",
      ".\n",
      ".\n",
      ".\n",
      ".\n",
      ".\n",
      ".\n",
      ".\n",
      ".\n",
      ".\n",
      ".\n",
      ".\n",
      ".\n",
      ".\n",
      ".\n",
      ".\n",
      ".\n",
      ".\n",
      ".\n",
      ".\n",
      ".\n",
      ".\n",
      ".\n",
      ".\n",
      ".\n",
      ".\n",
      ".\n",
      ".\n",
      ".\n",
      ".\n",
      ".\n",
      ".\n",
      ".\n",
      ".\n",
      ".\n",
      ".\n",
      ".\n",
      ".\n",
      ".\n",
      ".\n",
      ".\n",
      ".\n",
      ".\n",
      ".\n",
      ".\n",
      ".\n",
      ".\n",
      ".\n",
      ".\n",
      ".\n",
      ".\n",
      ".\n",
      ".\n",
      ".\n",
      ".\n",
      ".\n",
      ".\n",
      ".\n",
      ".\n",
      ".\n",
      ".\n",
      ".\n",
      ".\n",
      ".\n",
      ".\n",
      ".\n",
      ".\n",
      ".\n",
      ".\n",
      ".\n",
      ".\n",
      ".\n",
      ".\n",
      ".\n",
      ".\n",
      ".\n",
      ".\n",
      ".\n",
      ".\n",
      ".\n",
      ".\n",
      ".\n",
      ".\n",
      ".\n",
      ".\n",
      ".\n",
      ".\n",
      ".\n",
      ".\n",
      ".\n",
      ".\n",
      ".\n",
      ".\n",
      ".\n",
      ".\n",
      ".\n",
      ".\n",
      ".\n",
      ".\n",
      ".\n",
      ".\n",
      ".\n",
      ".\n",
      ".\n",
      ".\n",
      ".\n",
      ".\n",
      ".\n",
      ".\n",
      ".\n",
      ".\n",
      ".\n",
      ".\n",
      ".\n",
      ".\n",
      ".\n",
      ".\n",
      ".\n",
      ".\n",
      ".\n",
      ".\n",
      ".\n",
      ".\n",
      ".\n",
      ".\n",
      ".\n",
      ".\n",
      ".\n",
      ".\n",
      ".\n",
      ".\n",
      ".\n",
      ".\n",
      ".\n",
      ".\n",
      ".\n",
      ".\n",
      ".\n",
      ".\n",
      ".\n",
      ".\n",
      ".\n",
      ".\n",
      ".\n",
      ".\n",
      ".\n",
      ".\n",
      ".\n",
      ".\n",
      ".\n",
      ".\n",
      ".\n",
      ".\n",
      ".\n",
      ".\n",
      ".\n",
      ".\n",
      ".\n",
      ".\n",
      ".\n",
      ".\n",
      ".\n",
      ".\n",
      ".\n",
      ".\n"
     ]
    },
    {
     "data": {
      "text/plain": [
       "{'darwin_mode': 2000, 'learning_mode': 0, 'total_iterations': 200}"
      ]
     },
     "execution_count": 47,
     "metadata": {},
     "output_type": "execute_result"
    }
   ],
   "source": [
    "lemoo.run_iterations()"
   ]
  },
  {
   "cell_type": "code",
   "execution_count": 31,
   "id": "a8c9c935-9512-4498-b63c-9d3d0a3eaddf",
   "metadata": {},
   "outputs": [
    {
     "ename": "ValueError",
     "evalue": "operands could not be broadcast together with shapes (200,5) (4,) ",
     "output_type": "error",
     "traceback": [
      "\u001b[0;31m---------------------------------------------------------------------------\u001b[0m",
      "\u001b[0;31mValueError\u001b[0m                                Traceback (most recent call last)",
      "Cell \u001b[0;32mIn [41], line 1\u001b[0m\n\u001b[0;32m----> 1\u001b[0m \u001b[43mplot_hypervolume\u001b[49m\u001b[43m(\u001b[49m\u001b[43mlemoo\u001b[49m\u001b[38;5;241;43m.\u001b[39;49m\u001b[43m_generation_history\u001b[49m\u001b[43m,\u001b[49m\u001b[43m \u001b[49m\u001b[43mref_point\u001b[49m\u001b[38;5;241;43m=\u001b[39;49m\u001b[43mnadir\u001b[49m\u001b[43m)\u001b[49m\n",
      "File \u001b[0;32m~/workspace/XLEMOO/notebooks/../../XLEMOO/XLEMOO/plotting.py:36\u001b[0m, in \u001b[0;36mplot_hypervolume\u001b[0;34m(generations, ref_point)\u001b[0m\n\u001b[1;32m     34\u001b[0m \u001b[38;5;28;01mdef\u001b[39;00m \u001b[38;5;21mplot_hypervolume\u001b[39m(generations: List[PastGeneration], ref_point: np\u001b[38;5;241m.\u001b[39mndarray) \u001b[38;5;241m-\u001b[39m\u001b[38;5;241m>\u001b[39m \u001b[38;5;28;01mNone\u001b[39;00m:\n\u001b[1;32m     35\u001b[0m     hwas \u001b[38;5;241m=\u001b[39m np\u001b[38;5;241m.\u001b[39marray(\n\u001b[0;32m---> 36\u001b[0m         [\n\u001b[1;32m     37\u001b[0m             hypervolume_indicator(gen\u001b[38;5;241m.\u001b[39mobjectives_fitnesses, ref_point)\n\u001b[1;32m     38\u001b[0m             \u001b[38;5;28;01mfor\u001b[39;00m gen \u001b[38;5;129;01min\u001b[39;00m generations\n\u001b[1;32m     39\u001b[0m         ]\n\u001b[1;32m     40\u001b[0m     )\n\u001b[1;32m     41\u001b[0m     plt\u001b[38;5;241m.\u001b[39mplot(np\u001b[38;5;241m.\u001b[39marange(hwas\u001b[38;5;241m.\u001b[39mshape[\u001b[38;5;241m0\u001b[39m]), hwas)\n\u001b[1;32m     43\u001b[0m     \u001b[38;5;28;01mreturn\u001b[39;00m\n",
      "File \u001b[0;32m~/workspace/XLEMOO/notebooks/../../XLEMOO/XLEMOO/plotting.py:37\u001b[0m, in \u001b[0;36m<listcomp>\u001b[0;34m(.0)\u001b[0m\n\u001b[1;32m     34\u001b[0m \u001b[38;5;28;01mdef\u001b[39;00m \u001b[38;5;21mplot_hypervolume\u001b[39m(generations: List[PastGeneration], ref_point: np\u001b[38;5;241m.\u001b[39mndarray) \u001b[38;5;241m-\u001b[39m\u001b[38;5;241m>\u001b[39m \u001b[38;5;28;01mNone\u001b[39;00m:\n\u001b[1;32m     35\u001b[0m     hwas \u001b[38;5;241m=\u001b[39m np\u001b[38;5;241m.\u001b[39marray(\n\u001b[1;32m     36\u001b[0m         [\n\u001b[0;32m---> 37\u001b[0m             \u001b[43mhypervolume_indicator\u001b[49m\u001b[43m(\u001b[49m\u001b[43mgen\u001b[49m\u001b[38;5;241;43m.\u001b[39;49m\u001b[43mobjectives_fitnesses\u001b[49m\u001b[43m,\u001b[49m\u001b[43m \u001b[49m\u001b[43mref_point\u001b[49m\u001b[43m)\u001b[49m\n\u001b[1;32m     38\u001b[0m             \u001b[38;5;28;01mfor\u001b[39;00m gen \u001b[38;5;129;01min\u001b[39;00m generations\n\u001b[1;32m     39\u001b[0m         ]\n\u001b[1;32m     40\u001b[0m     )\n\u001b[1;32m     41\u001b[0m     plt\u001b[38;5;241m.\u001b[39mplot(np\u001b[38;5;241m.\u001b[39marange(hwas\u001b[38;5;241m.\u001b[39mshape[\u001b[38;5;241m0\u001b[39m]), hwas)\n\u001b[1;32m     43\u001b[0m     \u001b[38;5;28;01mreturn\u001b[39;00m\n",
      "File \u001b[0;32m~/.cache/pypoetry/virtualenvs/xlemoo-6BFI3yUJ-py3.8/lib/python3.8/site-packages/desdeo_tools/utilities/quality_indicator.py:85\u001b[0m, in \u001b[0;36mhypervolume_indicator\u001b[0;34m(front, reference_point)\u001b[0m\n\u001b[1;32m     83\u001b[0m ref \u001b[38;5;241m=\u001b[39m np\u001b[38;5;241m.\u001b[39masarray(reference_point, dtype\u001b[38;5;241m=\u001b[39m\u001b[38;5;124m'\u001b[39m\u001b[38;5;124mdouble\u001b[39m\u001b[38;5;124m'\u001b[39m) \u001b[38;5;66;03m# hv.wfg needs datatype to be double\u001b[39;00m\n\u001b[1;32m     84\u001b[0m fr \u001b[38;5;241m=\u001b[39m np\u001b[38;5;241m.\u001b[39masarray(front, dtype\u001b[38;5;241m=\u001b[39m\u001b[38;5;124m'\u001b[39m\u001b[38;5;124mdouble\u001b[39m\u001b[38;5;124m'\u001b[39m)\n\u001b[0;32m---> 85\u001b[0m \u001b[38;5;28;01mreturn\u001b[39;00m \u001b[43mhv\u001b[49m\u001b[38;5;241;43m.\u001b[39;49m\u001b[43mwfg\u001b[49m\u001b[43m(\u001b[49m\u001b[43mfr\u001b[49m\u001b[43m,\u001b[49m\u001b[43m \u001b[49m\u001b[43mref\u001b[49m\u001b[43m)\u001b[49m\n",
      "File \u001b[0;32mhvwfg/wfg.pyx:15\u001b[0m, in \u001b[0;36mhvwfg.wfg.wfg\u001b[0;34m()\u001b[0m\n",
      "\u001b[0;31mValueError\u001b[0m: operands could not be broadcast together with shapes (200,5) (4,) "
     ]
    }
   ],
   "source": [
    "plot_hypervolume(lemoo._generation_history, ref_point=nadir)"
   ]
  },
  {
   "cell_type": "code",
   "execution_count": 48,
   "id": "8a9bfb4d-c321-4b9c-8f63-6a9d30cfe5d4",
   "metadata": {},
   "outputs": [
    {
     "data": {
      "image/png": "[encoded data removed]",
      "text/plain": [
       "<Figure size 1920x1440 with 1 Axes>"
      ]
     },
     "metadata": {},
     "output_type": "display_data"
    }
   ],
   "source": [
    "plot_best_fitnesses(lemoo._generation_history)"
   ]
  },
  {
   "cell_type": "code",
   "execution_count": 49,
   "id": "0de6799e-4516-4d4d-abd2-adaaf518dc7e",
   "metadata": {},
   "outputs": [
    {
     "data": {
      "image/png": "[encoded data removed]",
      "text/plain": [
       "<Figure size 1920x1440 with 1 Axes>"
      ]
     },
     "metadata": {},
     "output_type": "display_data"
    }
   ],
   "source": [
    "plot_mean_fitnesses(lemoo._generation_history, ylog=True)"
   ]
  },
  {
   "cell_type": "code",
   "execution_count": 36,
   "id": "bf78ed8c-c59f-4e0a-b2ea-f44fcca19f8e",
   "metadata": {},
   "outputs": [
    {
     "name": "stdout",
     "output_type": "stream",
     "text": [
      "[[6.08926021e-01 2.15903549e+01 2.00000000e+00 8.05929991e+01\n",
      "  9.15968064e+02]]\n"
     ]
    },
    {
     "ename": "NameError",
     "evalue": "name 'lower_limits' is not defined",
     "output_type": "error",
     "traceback": [
      "\u001b[0;31m---------------------------------------------------------------------------\u001b[0m",
      "\u001b[0;31mNameError\u001b[0m                                 Traceback (most recent call last)",
      "Cell \u001b[0;32mIn [36], line 2\u001b[0m\n\u001b[1;32m      1\u001b[0m \u001b[38;5;28mprint\u001b[39m(problem\u001b[38;5;241m.\u001b[39mevaluate(lemoo\u001b[38;5;241m.\u001b[39m_generation_history[\u001b[38;5;241m-\u001b[39m\u001b[38;5;241m1\u001b[39m]\u001b[38;5;241m.\u001b[39mindividuals[\u001b[38;5;241m0\u001b[39m])\u001b[38;5;241m.\u001b[39mobjectives)\n\u001b[0;32m----> 2\u001b[0m \u001b[38;5;28mprint\u001b[39m(\u001b[43mlower_limits\u001b[49m)\n\u001b[1;32m      3\u001b[0m \u001b[38;5;28mprint\u001b[39m(upper_limits)\n",
      "\u001b[0;31mNameError\u001b[0m: name 'lower_limits' is not defined"
     ]
    }
   ],
   "source": [
    "print(problem.evaluate(lemoo._generation_history[-1].individuals[0]).objectives)\n",
    "print(lower_limits)\n",
    "print(upper_limits)"
   ]
  },
  {
   "cell_type": "code",
   "execution_count": 50,
   "id": "4691bef5-5d55-471c-bd39-3305e65e10e1",
   "metadata": {},
   "outputs": [
    {
     "name": "stdout",
     "output_type": "stream",
     "text": [
      "[20.   3.5 11.   0.1]\n"
     ]
    },
    {
     "data": {
      "text/plain": [
       "array([[-6.30354893e-02,  6.97415336e+00,  6.00000000e+00,\n",
       "         7.50000000e+01,  8.98060284e+02]])"
      ]
     },
     "execution_count": 50,
     "metadata": {},
     "output_type": "execute_result"
    }
   ],
   "source": [
    "print(ref_point)\n",
    "\n",
    "problem.evaluate(lemoo._generation_history[-1].individuals[0]).objectives"
   ]
  },
  {
   "cell_type": "code",
   "execution_count": 190,
   "id": "608150c8-8d42-4859-bed1-d61d2e892b92",
   "metadata": {},
   "outputs": [
    {
     "name": "stdout",
     "output_type": "stream",
     "text": [
      "Rule -> Accuracy:\n",
      "X_1 > 0.69952 and X_5 > 1.19999 --> 0.7550693636379773\n",
      "X_4 > 2.60901 and X_5 > 1.19999 --> 0.751758467698301\n",
      "X_2 <= 0.58187 and X_5 > 1.19999 --> 0.7459366248035846\n",
      "X_1 > 0.69952 and X_5 > 1.19998 --> 0.7190673290362938\n",
      "X_4 > 2.60901 and X_5 > 1.19998 --> 0.7163076923076923\n",
      "X_2 <= 0.58187 and X_5 > 1.19998 --> 0.7106425758375254\n",
      "X_0 <= 0.50001 and X_1 > 0.69952 --> 0.6373100889908099\n",
      "X_4 > 2.60901 --> 0.5653980930649499\n",
      "X_2 <= 0.58187 --> 0.549073272778692\n",
      "X_6 > 0.4 --> 0.5169788790208224\n"
     ]
    }
   ],
   "source": [
    "# print(lemoo.current_ml_model.rules_[1])\n",
    "show_rules(lemoo.current_ml_model.rules_)"
   ]
  },
  {
   "cell_type": "code",
   "execution_count": null,
   "id": "0df1e750-38d4-491e-bd64-b413fdc74c9b",
   "metadata": {},
   "outputs": [],
   "source": [
    "#print(np.logical_and(lemoo._generation_history[-1].objectives_fitnesses <= upper_limits, lemoo._generation_history[-1].objectives_fitnesses >= lower_limits))\n",
    "a = lemoo._generation_history[-1].objectives_fitnesses[0:3]\n",
    "\n",
    "fitness_fun(np.atleast_2d(a))"
   ]
  },
  {
   "cell_type": "code",
   "execution_count": null,
   "id": "fccb4b4e-de3c-4d61-a129-7db74712c55d",
   "metadata": {},
   "outputs": [],
   "source": [
    "lemoo._generation_history[-2].individuals"
   ]
  },
  {
   "cell_type": "code",
   "execution_count": null,
   "id": "46b3adb4-def7-4592-b373-b1a2398157d4",
   "metadata": {},
   "outputs": [],
   "source": [
    "upper_limits"
   ]
  },
  {
   "cell_type": "code",
   "execution_count": null,
   "id": "32523ab3-cf3b-4dca-ac61-09b4acf986bd",
   "metadata": {},
   "outputs": [],
   "source": [
    "a - lower_limits"
   ]
  },
  {
   "cell_type": "code",
   "execution_count": null,
   "id": "84bbeed8-dc2e-4fa0-b4ce-503af8a1ffd4",
   "metadata": {},
   "outputs": [],
   "source": [
    "upper_limits - a"
   ]
  },
  {
   "cell_type": "code",
   "execution_count": null,
   "id": "7589cb6b-a4f6-4a03-bf3e-6621abdb83ad",
   "metadata": {},
   "outputs": [],
   "source": [
    "lower = np.where(a - lower_limits > 0, 0, np.abs(a - lower_limits))\n",
    "upper = np.where(upper_limits - a > 0, 0, np.abs(upper_limits - a))"
   ]
  },
  {
   "cell_type": "code",
   "execution_count": null,
   "id": "36017ab6-3ef5-441a-ba59-4d1062e9d906",
   "metadata": {},
   "outputs": [],
   "source": [
    "lower"
   ]
  },
  {
   "cell_type": "code",
   "execution_count": null,
   "id": "11c17a8d-3476-44ff-abbc-9376a1d0d580",
   "metadata": {},
   "outputs": [],
   "source": [
    "upper"
   ]
  },
  {
   "cell_type": "code",
   "execution_count": null,
   "id": "4a1303c3-5564-4d14-8d87-f33476f77f1c",
   "metadata": {},
   "outputs": [],
   "source": [
    "lower + upper"
   ]
  },
  {
   "cell_type": "code",
   "execution_count": null,
   "id": "58fc37cb-0ad9-4af8-b851-76306b07a911",
   "metadata": {},
   "outputs": [],
   "source": [
    "np.sum(lower + upper, axis=1).T"
   ]
  },
  {
   "cell_type": "code",
   "execution_count": null,
   "id": "52ca8e67-4d26-4a95-b4c3-6b63fc3b2e3a",
   "metadata": {},
   "outputs": [],
   "source": [
    "fitness_fun(a)"
   ]
  },
  {
   "cell_type": "code",
   "execution_count": null,
   "id": "8791b8b5-a177-4f6b-8677-a2fee64950db",
   "metadata": {},
   "outputs": [],
   "source": []
  }
 ],
 "metadata": {
  "kernelspec": {
   "display_name": "XLEMOO",
   "language": "python",
   "name": "xlemoo"
  },
  "language_info": {
   "codemirror_mode": {
    "name": "ipython",
    "version": 3
   },
   "file_extension": ".py",
   "mimetype": "text/x-python",
   "name": "python",
   "nbconvert_exporter": "python",
   "pygments_lexer": "ipython3",
   "version": "3.8.12"
  }
 },
 "nbformat": 4,
 "nbformat_minor": 5
}
