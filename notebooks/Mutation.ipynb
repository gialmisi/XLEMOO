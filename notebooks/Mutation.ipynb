{
 "cells": [
  {
   "cell_type": "code",
   "execution_count": 2,
   "id": "65e7f149-796c-40a1-86bd-f839d40da9a7",
   "metadata": {},
   "outputs": [],
   "source": [
    "from desdeo_emo.recombination import BP_mutation\n",
    "import numpy as np"
   ]
  },
  {
   "cell_type": "code",
   "execution_count": 36,
   "id": "39a691bc-f96f-4450-8df0-e01d1be7cb11",
   "metadata": {},
   "outputs": [],
   "source": [
    "a = np.array([[0.5, 0.5, 0.5], [0.5, 0.5, 0.5]])\n",
    "lower = np.array([0,0,0])\n",
    "upper = np.array([1,1,1])"
   ]
  },
  {
   "cell_type": "code",
   "execution_count": 37,
   "id": "6c63103d-4cdf-41f4-acb4-b80bf8a88052",
   "metadata": {},
   "outputs": [],
   "source": [
    "mutation_op = BP_mutation(lower, upper)\n"
   ]
  },
  {
   "cell_type": "code",
   "execution_count": 48,
   "id": "d52e0fbf-56a3-40d9-9ccf-2a329ae81e07",
   "metadata": {},
   "outputs": [
    {
     "data": {
      "text/plain": [
       "array([[0.54555222, 0.59866417, 0.50535154],\n",
       "       [0.43664199, 0.51236673, 0.53350007]])"
      ]
     },
     "execution_count": 48,
     "metadata": {},
     "output_type": "execute_result"
    }
   ],
   "source": [
    "mutation_op.do(a)"
   ]
  },
  {
   "cell_type": "code",
   "execution_count": 26,
   "id": "bbef10b9-a623-452d-a42c-5892a197ad97",
   "metadata": {},
   "outputs": [
    {
     "data": {
      "text/plain": [
       "array([0.5       , 0.5       , 0.43593372])"
      ]
     },
     "execution_count": 26,
     "metadata": {},
     "output_type": "execute_result"
    }
   ],
   "source": [
    "a"
   ]
  },
  {
   "cell_type": "code",
   "execution_count": null,
   "id": "8330973c-a697-423b-841d-5e65dfa889dc",
   "metadata": {},
   "outputs": [],
   "source": []
  }
 ],
 "metadata": {
  "kernelspec": {
   "display_name": "XLEMOO",
   "language": "python",
   "name": "xlemoo"
  },
  "language_info": {
   "codemirror_mode": {
    "name": "ipython",
    "version": 3
   },
   "file_extension": ".py",
   "mimetype": "text/x-python",
   "name": "python",
   "nbconvert_exporter": "python",
   "pygments_lexer": "ipython3",
   "version": "3.8.12"
  }
 },
 "nbformat": 4,
 "nbformat_minor": 5
}
