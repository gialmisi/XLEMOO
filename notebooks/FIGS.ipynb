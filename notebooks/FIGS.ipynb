{
 "cells": [
  {
   "cell_type": "code",
   "execution_count": 5,
   "id": "40484a3e-6202-4a65-956b-c544e4225289",
   "metadata": {},
   "outputs": [
    {
     "data": {
      "text/plain": [
       "imodels.tree.figs.FIGSClassifier"
      ]
     },
     "execution_count": 5,
     "metadata": {},
     "output_type": "execute_result"
    }
   ],
   "source": [
    "import sys\n",
    "sys.path.append(\"../../XLEMOO\")\n",
    "from imodels import FIGSClassifier, get_clean_dataset\n",
    "from imodels.util.convert import tree_to_rules\n",
    "from sklearn.model_selection import train_test_split\n",
    "import numpy as np\n",
    "from XLEMOO.tree_interpreter import instantiate_tree_rules, find_all_paths\n",
    "\n",
    "   # prepare data (in this a sample clinical dataset)\n",
    "X, y, feat_names = get_clean_dataset('csi_pecarn_pred')\n",
    "X_train, X_test, y_train, y_test = train_test_split(\n",
    "X, y, test_size=0.33, random_state=42)\n",
    "\n",
    "    # fit the model\n",
    "model = FIGSClassifier(max_rules=4)  # initialize a model\n",
    "model.fit(X_train, y_train)   # fit model\n",
    "\n",
    "type(model)"
   ]
  },
  {
   "cell_type": "code",
   "execution_count": 13,
   "id": "c480097a-866e-496c-99df-d54067a57f41",
   "metadata": {},
   "outputs": [
    {
     "data": {
      "text/plain": [
       "imodels.tree.figs.Node"
      ]
     },
     "execution_count": 13,
     "metadata": {},
     "output_type": "execute_result"
    }
   ],
   "source": [
    "type(model.trees_[0])"
   ]
  },
  {
   "cell_type": "code",
   "execution_count": null,
   "id": "7383e007-3a81-4411-8b4a-e3df4aa7f39e",
   "metadata": {},
   "outputs": [],
   "source": []
  }
 ],
 "metadata": {
  "kernelspec": {
   "display_name": "xlemoo",
   "language": "python",
   "name": "xlemoo"
  },
  "language_info": {
   "codemirror_mode": {
    "name": "ipython",
    "version": 3
   },
   "file_extension": ".py",
   "mimetype": "text/x-python",
   "name": "python",
   "nbconvert_exporter": "python",
   "pygments_lexer": "ipython3",
   "version": "3.8.12"
  }
 },
 "nbformat": 4,
 "nbformat_minor": 5
}
