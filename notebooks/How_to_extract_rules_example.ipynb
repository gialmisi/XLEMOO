{
 "cells": [
  {
   "cell_type": "markdown",
   "id": "ee9a5f12-d548-47a7-92c9-58f9594da5ea",
   "metadata": {},
   "source": [
    "# Extracting rule sets from an explainable LEMOO method\n",
    "\n",
    "This notebooks showcases how the learned rules in an XLEMOO method can be extracted and explored.\n",
    "\n",
    "## Imports\n",
    "\n",
    "We start with the imports needed to run the example."
   ]
  },
  {
   "cell_type": "code",
   "execution_count": null,
   "id": "6065d790-6ab1-480d-9922-bc74ad0110a8",
   "metadata": {
    "tags": []
   },
   "outputs": [],
   "source": [
    "import sys\n",
    "sys.path.append(\"../../XLEMOO\")\n",
    "\n",
    "from XLEMOO.LEMOO import EAParams, MLParams, LEMParams, LEMOO, PastGeneration\n",
    "from XLEMOO.fitness_indicators import asf_wrapper\n",
    "from XLEMOO.selection import SelectNBest\n",
    "from XLEMOO.plotting import show_rules\n",
    "from XLEMOO.ruleset_interpreter import extract_skoped_rules\n",
    "from desdeo_emo.recombination import SBX_xover, BP_mutation\n",
    "from desdeo_tools.scalarization.ASF import PointMethodASF\n",
    "from desdeo_problem.testproblems import vehicle_crashworthiness\n",
    "\n",
    "import matplotlib.pyplot as plt\n",
    "import numpy as np\n",
    "from imodels import SkopeRulesClassifier"
   ]
  },
  {
   "cell_type": "markdown",
   "id": "edef70a1-e421-4b0a-99c2-e666af62c2f9",
   "metadata": {},
   "source": [
    "## Initialize the problem\n",
    "\n",
    "We next initialize the vehicle crash worthiness problem."
   ]
  },
  {
   "cell_type": "code",
   "execution_count": null,
   "id": "d7993f78-b475-4249-9f9e-5608b82a2dff",
   "metadata": {
    "tags": []
   },
   "outputs": [],
   "source": [
    "n_objectives = 3\n",
    "n_variables = 5\n",
    "\n",
    "problem = vehicle_crashworthiness()"
   ]
  },
  {
   "cell_type": "markdown",
   "id": "486f50ea-1b59-4a77-82f5-0bc8a0e7882e",
   "metadata": {},
   "source": [
    "## Initialize an XLEMOO method\n",
    "\n",
    "Next, the parameters needed to initialize the XLEMOO method are defined. As the interpretable machine learning model, Skope rules are utilized."
   ]
  },
  {
   "cell_type": "code",
   "execution_count": null,
   "id": "a52f71a1-2f4a-428e-9ff5-215947a761ab",
   "metadata": {
    "tags": []
   },
   "outputs": [],
   "source": [
    "ideal = np.array([1600.0, 6.0, 0.038])\n",
    "nadir = np.array([1700.0, 12.0, 0.2])\n",
    "ref_point = np.array([1650.0, 7.0, 0.05])  # the reference point\n",
    "\n",
    "# define the achievement scalarizing function as the fitness function\n",
    "ref_asf = asf_wrapper(PointMethodASF(ideal=ideal, nadir=nadir), {\"reference_point\": ref_point})\n",
    "fitness_fun = ref_asf\n",
    "\n",
    "lem_params = LEMParams(\n",
    "    use_darwin=True,\n",
    "    use_ml=True,\n",
    "    fitness_indicator=fitness_fun,\n",
    "    ml_probe = 1,\n",
    "    ml_threshold = None,\n",
    "    darwin_probe = None,\n",
    "    darwin_threshold = None,\n",
    "    total_iterations=10,\n",
    ")\n",
    "\n",
    "ea_params = EAParams(\n",
    "    population_size=50,\n",
    "    cross_over_op=SBX_xover(),\n",
    "    mutation_op=BP_mutation(problem.get_variable_lower_bounds(), problem.get_variable_upper_bounds()),\n",
    "    selection_op=SelectNBest(None, 50),  # keep population size constant\n",
    "    population_init_design=\"LHSDesign\",\n",
    "    iterations_per_cycle=19,\n",
    ")\n",
    "\n",
    "ml = SkopeRulesClassifier(precision_min=0.1, n_estimators=30, max_features=None, max_depth=None, bootstrap=True, bootstrap_features=True, random_state=1)\n",
    "ml_params = MLParams(\n",
    "    H_split=0.20,\n",
    "    L_split=0.20,\n",
    "    ml_model=ml,\n",
    "    instantation_factor=10,\n",
    "    generation_lookback=0,\n",
    "    ancestral_recall=0,\n",
    "    unique_only=True,\n",
    "    iterations_per_cycle=1,\n",
    ")\n",
    "\n",
    "lemoo = LEMOO(problem, lem_params, ea_params, ml_params)"
   ]
  },
  {
   "cell_type": "markdown",
   "id": "78415f5d-1d24-44a9-935e-396da3dfe2ba",
   "metadata": {},
   "source": [
    "## Run the XLEMOO method\n",
    "\n",
    "The XLEMOO method is then run for a set number of iterations in both its Darwinian and learning modes. The output shows how many iterations were spent in each mode."
   ]
  },
  {
   "cell_type": "code",
   "execution_count": null,
   "id": "73c2c992-74e5-4802-b7c8-b3bb70de3be9",
   "metadata": {
    "tags": []
   },
   "outputs": [],
   "source": [
    "lemoo.run_iterations()"
   ]
  },
  {
   "cell_type": "markdown",
   "id": "47b76325-93eb-4da7-885b-3fbd9453b47e",
   "metadata": {},
   "source": [
    "## Extract most accurate rules\n",
    "\n",
    "Then, the most accurate rules are extracted."
   ]
  },
  {
   "cell_type": "code",
   "execution_count": null,
   "id": "543b80ec-c0ef-4052-bef1-64cb3da47310",
   "metadata": {
    "tags": []
   },
   "outputs": [],
   "source": [
    "rules, accuracies = extract_skoped_rules(lemoo.current_ml_model)\n",
    "problem_lower_bounds = problem.get_variable_lower_bounds()\n",
    "problem_upper_bounds = problem.get_variable_upper_bounds()\n",
    "\n",
    "rules_for_vars = {f\"X_{i}\": {\">\": [problem_lower_bounds[i], -1], \"<=\": [problem_upper_bounds[i], -1]} for i in range(n_variables)}\n",
    "\n",
    "for accuracy, rule in zip(accuracies, rules):\n",
    "    for key in rule:\n",
    "        var_name = key[0]\n",
    "        op = key[1]\n",
    "        \n",
    "        # check accuracy\n",
    "        if rules_for_vars[var_name][op][1] < accuracy: \n",
    "            # update accuracy\n",
    "            rules_for_vars[var_name][op][1] = accuracy\n",
    "            if op == \"<=\":\n",
    "                # tighten rule, if necessary\n",
    "                if float(rule[(var_name, op)]) <= rules_for_vars[var_name][op][0]:\n",
    "                    rules_for_vars[var_name][op][0] = float(rule[(var_name, op)])\n",
    "            elif op == \">\":\n",
    "                # tighten rule, if necessary\n",
    "                if float(rule[(var_name, op)]) > rules_for_vars[var_name][op][0]:\n",
    "                    rules_for_vars[var_name][op][0] = float(rule[(var_name, op)])"
   ]
  },
  {
   "cell_type": "markdown",
   "id": "ab3e9c39-ceed-4112-a1b4-454efc9f64db",
   "metadata": {},
   "source": [
    "## Extract bounds of the final population and complete missing rules\n",
    "\n",
    "Since rules alone might not be enough to describe all the upper and lower bounds of each decision variable, the missing information is extracted from the final population found by the XLMEOO method. The rules augmented with information\n",
    "from the population are then printed."
   ]
  },
  {
   "cell_type": "code",
   "execution_count": null,
   "id": "faa0e96c-ef9c-40e3-9831-f15fb98ebdfb",
   "metadata": {
    "tags": []
   },
   "outputs": [],
   "source": [
    "lower_bounds = np.min(lemoo._generation_history[-1].individuals, axis=0)\n",
    "upper_bounds = np.max(lemoo._generation_history[-1].individuals, axis=0)\n",
    "\n",
    "# if there are no upper or lower bound for some vars in the rules, use the min or max from the population\n",
    "for var_i, var_name in enumerate(rules_for_vars):\n",
    "    for op in rules_for_vars[var_name]:\n",
    "        if op == \"<=\":\n",
    "            if rules_for_vars[var_name][op][1] == -1:\n",
    "                # replace missing rule with bound from population\n",
    "                rules_for_vars[var_name][op][0] = upper_bounds[var_i]\n",
    "        if op == \">\":\n",
    "            if rules_for_vars[var_name][op][1] == -1:\n",
    "                rules_for_vars[var_name][op][0] = lower_bounds[var_i]\n",
    "\n",
    "print(\"RULES:\")\n",
    "print(\"Var\\tLower(R)\\t\\tUpper(R)\\t\\tLower(P)\\t\\tUpper(P)\")\n",
    "for i, rule in enumerate(rules_for_vars):\n",
    "    msg = (f\"{rule}\\t{np.round(rules_for_vars[rule]['>'][0], 5)}\\t({np.round(rules_for_vars[rule]['>'][1], 3)})\\t\\t{np.round(rules_for_vars[rule]['<='][0], 5)} ({np.round(rules_for_vars[rule]['<='][1], 3)})\\t\\t\"\n",
    "           f\"{np.round(lower_bounds[i], 5)}\\t\\t\\t{np.round(upper_bounds[i], 5)}\")\n",
    "    msg_tex = (f\"${rule}$ & ${np.round(rules_for_vars[rule]['>'][0], 5)}$ & $({np.round(rules_for_vars[rule]['>'][1], 3)})$ & ${np.round(rules_for_vars[rule]['<='][0], 5)}$ & $({np.round(rules_for_vars[rule]['<='][1], 3)})$ &\"\n",
    "           f\"${np.round(lower_bounds[i], 5)}$ & ${np.round(upper_bounds[i], 5)}$ \\\\\\\\\")\n",
    "    print(msg)\n",
    "    # print(msg_tex)"
   ]
  },
  {
   "cell_type": "markdown",
   "id": "11593ffa-13dd-42ae-a15c-8ed18c5546eb",
   "metadata": {},
   "source": [
    "## Generate new solutions based on the data to help validate the rules\n",
    "\n",
    "New solutions may be generated based on the rules. This can represent how a decision maker might modify the the decision variables based on the rules. Then, it can be checked how much these new solutions vary in their fitness values compared\n",
    "to the current best solution in the population."
   ]
  },
  {
   "cell_type": "code",
   "execution_count": null,
   "id": "29fc4ff5-328c-4ad3-a32d-3ae4d8791214",
   "metadata": {
    "tags": []
   },
   "outputs": [],
   "source": [
    "sample_rules = np.random.uniform(low=[rules_for_vars[f\"X_{i}\"]['>'][0] for i in range(n_variables)], high=[rules_for_vars[f\"X_{i}\"]['<='][0] for i in range(n_variables)], size=(100000, n_variables))\n",
    "fitness_values_rules = fitness_fun(problem.evaluate(sample_rules).objectives)"
   ]
  },
  {
   "cell_type": "markdown",
   "id": "1184987d-e7e8-4678-887c-a738c8f1adce",
   "metadata": {},
   "source": [
    "## Plot the fitnesses of generated solutions\n",
    "\n",
    "Utilizing a histogram, we get the general idea on how much the solutions generated based on the rules might vary in their fitness values compared to the best fitness."
   ]
  },
  {
   "cell_type": "code",
   "execution_count": null,
   "id": "88908e8d-5aa9-45f4-98ad-d992ae5f8cca",
   "metadata": {
    "tags": []
   },
   "outputs": [],
   "source": [
    "best_fitness = lemoo._generation_history[-1].fitness_fun_values[0]\n",
    "\n",
    "fig = plt.figure()\n",
    "plt.hist(fitness_values_rules, bins=150)\n",
    "plt.xlabel(\"Fitness values\")\n",
    "plt.ylabel(\"Counts\")\n",
    "plt.axvline(best_fitness, c=\"red\", linestyle=\"dashed\", linewidth=0.3, label=\"Best fitness\")\n",
    "plt.text(best_fitness + 0.00005, 800, f\"Best:\\n{best_fitness[0].round(5)}\")\n",
    "plt.title(\"Ruleset 1\")\n",
    "plt.legend()\n",
    "fig.savefig(\"/home/kilo/workspace/XLEMOO/figures/rules_hist_1.pdf\")"
   ]
  },
  {
   "cell_type": "code",
   "execution_count": null,
   "id": "9932142a-721a-4b7c-add2-a190eb7d0db7",
   "metadata": {},
   "outputs": [],
   "source": []
  }
 ],
 "metadata": {
  "kernelspec": {
   "display_name": "xlemoo",
   "language": "python",
   "name": "xlemoo"
  },
  "language_info": {
   "codemirror_mode": {
    "name": "ipython",
    "version": 3
   },
   "file_extension": ".py",
   "mimetype": "text/x-python",
   "name": "python",
   "nbconvert_exporter": "python",
   "pygments_lexer": "ipython3",
   "version": "3.8.12"
  }
 },
 "nbformat": 4,
 "nbformat_minor": 5
}
