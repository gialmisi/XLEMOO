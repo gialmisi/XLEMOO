{
 "cells": [
  {
   "cell_type": "code",
   "execution_count": 2,
   "id": "b65709c6-67b5-4c37-bf6a-2d539eb83c78",
   "metadata": {},
   "outputs": [],
   "source": [
    "import sys\n",
    "sys.path.append(\"../../XLEMOO\")"
   ]
  },
  {
   "cell_type": "code",
   "execution_count": 3,
   "id": "6065d790-6ab1-480d-9922-bc74ad0110a8",
   "metadata": {},
   "outputs": [],
   "source": [
    "from XLEMOO.LEMOO import EAParams, MLParams, LEMParams, LEMOO, PastGeneration\n",
    "from XLEMOO.fitness_indicators import asf_wrapper, hypervolume_contribution, inside_ranges\n",
    "from XLEMOO.tree_interpreter import instantiate_tree_rules, find_all_paths\n",
    "from XLEMOO.problems import river_pollution_problem\n",
    "from XLEMOO.plotting import plot_best_fitnesses, plot_mean_fitnesses, plot_std_fitnesses, plot_hypervolume, show_rules\n",
    "from XLEMOO.selection import SelectNBest\n",
    "from desdeo_emo.recombination import SBX_xover, BP_mutation\n",
    "from desdeo_emo.selection import TournamentSelection\n",
    "from desdeo_problem.testproblems import test_problem_builder, vehicle_crashworthiness\n",
    "from desdeo_tools.scalarization.ASF import SimpleASF, GuessASF, StomASF, PointMethodASF\n",
    "from desdeo_tools.utilities import hypervolume_indicator, epsilon_indicator_ndims, fast_non_dominated_sort_indices\n",
    "from typing import List\n",
    "\n",
    "from sklearn.tree import DecisionTreeClassifier\n",
    "import sklearn.tree as tree\n",
    "import matplotlib.pyplot as plt\n",
    "import numpy as np\n",
    "from imodels import C45TreeClassifier, SlipperClassifier, BoostedRulesClassifier, SkopeRulesClassifier\n",
    "import imodels"
   ]
  },
  {
   "cell_type": "markdown",
   "id": "edef70a1-e421-4b0a-99c2-e666af62c2f9",
   "metadata": {},
   "source": [
    "## Define problem"
   ]
  },
  {
   "cell_type": "code",
   "execution_count": 4,
   "id": "d7993f78-b475-4249-9f9e-5608b82a2dff",
   "metadata": {},
   "outputs": [],
   "source": [
    "n_objectives = 3\n",
    "n_variables = 5\n",
    "\n",
    "problem = vehicle_crashworthiness()"
   ]
  },
  {
   "cell_type": "markdown",
   "id": "486f50ea-1b59-4a77-82f5-0bc8a0e7882e",
   "metadata": {},
   "source": [
    "## Setting model parameters"
   ]
  },
  {
   "cell_type": "code",
   "execution_count": 32,
   "id": "a52f71a1-2f4a-428e-9ff5-215947a761ab",
   "metadata": {},
   "outputs": [],
   "source": [
    "\"\"\"\n",
    "nadir = np.ones(n_objectives)\n",
    "ideal = np.zeros(n_objectives)\n",
    "# ideal = np.array([-6.34, -3.44, -7.5, 0, 0])\n",
    "# nadir = np.array([-4.75, -2.85, -0.32, 9.70, 0.35])\n",
    "#ref_point = np.array([-5.0, -3.1, -4.4, 4.2, 0.15])\n",
    "#guess_asf = asf_wrapper(GuessASF(nadir), {\"reference_point\": ref_point})\n",
    "\n",
    "# fitness_fun = lambda x: guess_asf(x) + stom_asf(x) + np.random.uniform(0, 1)\n",
    "\n",
    "# lower_limits = np.array([-5.5, -3.2, -5.4, 3.2, 0.05])\n",
    "# upper_limits = np.array([-3.9, -2.9, -0.9, 7.2, 0.20])\n",
    "\n",
    "lower_limits = np.array([0.4, 0.4, 0.6])\n",
    "upper_limits = np.array([0.5, 0.5, 0.75])\n",
    "ref_point = (lower_limits + upper_limits) / 2\n",
    "\n",
    "\n",
    "stom_asf = asf_wrapper(StomASF(ideal=ideal), {\"reference_point\": ideal})\n",
    "guess_asf = asf_wrapper(GuessASF(nadir), {\"reference_point\": ref_point})\n",
    "ref_asf = asf_wrapper(PointMethodASF(ideal=ideal, nadir=nadir), {\"reference_point\": ref_point})\n",
    "hyper_fun = hypervolume_contribution(nadir)\n",
    "inside_ranges_fun = inside_ranges(lower_limits, upper_limits, sim_cost=0, asf_fun=ref_asf)\n",
    "\"\"\"\n",
    "\n",
    "nadir = np.array([4.0, 22, 12.0, 120, 1100])\n",
    "ideal = np.array([-0.7, 2.9, 1.0, 70.0, 280])\n",
    "\n",
    "ref_point = np.array([1.2, 8.2, 3.5, 95.0, 320])\n",
    "\n",
    "ref_asf = asf_wrapper(PointMethodASF(ideal=ideal, nadir=nadir), {\"reference_point\": ref_point})\n",
    "\n",
    "def fitness_fun(x, _):\n",
    "    return x[:, 2].T\n",
    "\n",
    "\n",
    "lem_params = LEMParams(\n",
    "    use_darwin=True,\n",
    "    use_ml=False,\n",
    "    fitness_indicator=fitness_fun,\n",
    "    ml_probe = 1,\n",
    "    ml_threshold = 0.99999,\n",
    "    darwin_probe = 5,\n",
    "    darwin_threshold = 0.99999,\n",
    "    total_iterations=20\n",
    ")\n",
    "\n",
    "ea_params = EAParams(\n",
    "    population_size=200,\n",
    "    cross_over_op=SBX_xover(),\n",
    "    mutation_op=BP_mutation(problem.get_variable_lower_bounds(), problem.get_variable_upper_bounds()),\n",
    "    # selection_op=TournamentSelection(None, tournament_size=3),\n",
    "    selection_op=SelectNBest(None, 200),\n",
    "    population_init_design=\"LHSDesign\",\n",
    "    iterations_per_cycle=200,\n",
    ")\n",
    "\n",
    "# ml = DecisionTreeClassifier(random_state=0)\n",
    "# ml = SlipperClassifier()\n",
    "# ml = BoostedRulesClassifier()\n",
    "ml = SkopeRulesClassifier(precision_min=0.1, n_estimators=30, max_features=None, max_depth=None, bootstrap=True, bootstrap_features=True)\n",
    "ml_params = MLParams(\n",
    "    H_split=0.05,\n",
    "    L_split=0.05,\n",
    "    ml_model=ml,\n",
    "    instantation_factor=1,\n",
    "    generation_lookback=0,\n",
    "    ancestral_recall=0,\n",
    "    unique_only=True,\n",
    "    iterations_per_cycle=1,\n",
    ")"
   ]
  },
  {
   "cell_type": "markdown",
   "id": "78415f5d-1d24-44a9-935e-396da3dfe2ba",
   "metadata": {},
   "source": [
    "## Setup LEMOO model"
   ]
  },
  {
   "cell_type": "code",
   "execution_count": 33,
   "id": "ec9c7860-82e4-4ca8-9d0b-26b52e8f482e",
   "metadata": {},
   "outputs": [],
   "source": [
    "lemoo = LEMOO(problem, lem_params, ea_params, ml_params)"
   ]
  },
  {
   "cell_type": "code",
   "execution_count": 34,
   "id": "73c2c992-74e5-4802-b7c8-b3bb70de3be9",
   "metadata": {
    "tags": []
   },
   "outputs": [
    {
     "data": {
      "text/plain": [
       "{'darwin_mode': 4000, 'learning_mode': 0, 'total_iterations': 20}"
      ]
     },
     "execution_count": 34,
     "metadata": {},
     "output_type": "execute_result"
    }
   ],
   "source": [
    "lemoo.run_iterations()"
   ]
  },
  {
   "cell_type": "code",
   "execution_count": 35,
   "id": "8791b8b5-a177-4f6b-8677-a2fee64950db",
   "metadata": {},
   "outputs": [
    {
     "data": {
      "text/plain": [
       "array([1.69202088e+03, 1.05622520e+01, 4.24862385e-02])"
      ]
     },
     "execution_count": 35,
     "metadata": {},
     "output_type": "execute_result"
    }
   ],
   "source": [
    "lemoo._generation_history[-1].objectives_fitnesses[0]"
   ]
  },
  {
   "cell_type": "code",
   "execution_count": null,
   "id": "7fbd45bc-2960-4faf-96d0-db217859bb3d",
   "metadata": {},
   "outputs": [],
   "source": []
  }
 ],
 "metadata": {
  "kernelspec": {
   "display_name": "xlemoo",
   "language": "python",
   "name": "xlemoo"
  },
  "language_info": {
   "codemirror_mode": {
    "name": "ipython",
    "version": 3
   },
   "file_extension": ".py",
   "mimetype": "text/x-python",
   "name": "python",
   "nbconvert_exporter": "python",
   "pygments_lexer": "ipython3",
   "version": "3.8.12"
  }
 },
 "nbformat": 4,
 "nbformat_minor": 5
}
